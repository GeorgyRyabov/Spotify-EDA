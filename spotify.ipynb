{
  "nbformat": 4,
  "nbformat_minor": 0,
  "metadata": {
    "colab": {
      "name": "Untitled0.ipynb",
      "provenance": [],
      "collapsed_sections": []
    },
    "kernelspec": {
      "name": "python3",
      "display_name": "Python 3"
    }
  },
  "cells": [
    {
      "cell_type": "code",
      "metadata": {
        "id": "dljnPQXuqe_u"
      },
      "source": [
        "import pandas as pd\n",
        "import numpy as np\n",
        "import seaborn as sns\n",
        "import plotly.graph_objects as go\n",
        "import matplotlib.pyplot as plt\n",
        "import warnings\n",
        "warnings.filterwarnings(\"ignore\")\n",
        "import plotly\n",
        "from sklearn.preprocessing import MinMaxScaler, LabelEncoder,StandardScaler\n",
        "from sklearn.metrics import accuracy_score\n",
        "from plotly.subplots import make_subplots\n",
        "from imblearn.over_sampling import SMOTE\n",
        "from sklearn.ensemble import RandomForestClassifier\n",
        "from sklearn.model_selection import RandomizedSearchCV, GridSearchCV,train_test_split\n",
        "import plotly\n",
        "import plotly.express as px\n",
        "%matplotlib inline"
      ],
      "execution_count": 30,
      "outputs": []
    },
    {
      "cell_type": "markdown",
      "metadata": {
        "id": "dqujyLt_YCaM"
      },
      "source": [
        "Load data"
      ]
    },
    {
      "cell_type": "code",
      "metadata": {
        "colab": {
          "base_uri": "https://localhost:8080/",
          "height": 309
        },
        "id": "lJFX3BAarEDx",
        "outputId": "557a8c3b-06b4-47fc-8369-ac8b5fb42ae5"
      },
      "source": [
        "data_1 = pd.read_csv('/content/drive/MyDrive/data/genres_v2.csv')\n",
        "play_lists = pd.read_csv('/content/drive/MyDrive/data/playlists.csv')\n",
        "data.head()"
      ],
      "execution_count": 31,
      "outputs": [
        {
          "output_type": "execute_result",
          "data": {
            "text/html": [
              "<div>\n",
              "<style scoped>\n",
              "    .dataframe tbody tr th:only-of-type {\n",
              "        vertical-align: middle;\n",
              "    }\n",
              "\n",
              "    .dataframe tbody tr th {\n",
              "        vertical-align: top;\n",
              "    }\n",
              "\n",
              "    .dataframe thead th {\n",
              "        text-align: right;\n",
              "    }\n",
              "</style>\n",
              "<table border=\"1\" class=\"dataframe\">\n",
              "  <thead>\n",
              "    <tr style=\"text-align: right;\">\n",
              "      <th></th>\n",
              "      <th>danceability</th>\n",
              "      <th>energy</th>\n",
              "      <th>key</th>\n",
              "      <th>loudness</th>\n",
              "      <th>mode</th>\n",
              "      <th>speechiness</th>\n",
              "      <th>acousticness</th>\n",
              "      <th>instrumentalness</th>\n",
              "      <th>liveness</th>\n",
              "      <th>valence</th>\n",
              "      <th>tempo</th>\n",
              "      <th>duration_ms</th>\n",
              "      <th>time_signature</th>\n",
              "      <th>genre</th>\n",
              "    </tr>\n",
              "  </thead>\n",
              "  <tbody>\n",
              "    <tr>\n",
              "      <th>0</th>\n",
              "      <td>0.831</td>\n",
              "      <td>0.814</td>\n",
              "      <td>2</td>\n",
              "      <td>-7.364</td>\n",
              "      <td>1</td>\n",
              "      <td>0.4200</td>\n",
              "      <td>0.0598</td>\n",
              "      <td>0.013400</td>\n",
              "      <td>0.0556</td>\n",
              "      <td>0.3890</td>\n",
              "      <td>156.985</td>\n",
              "      <td>124539</td>\n",
              "      <td>4</td>\n",
              "      <td>Dark Trap</td>\n",
              "    </tr>\n",
              "    <tr>\n",
              "      <th>1</th>\n",
              "      <td>0.719</td>\n",
              "      <td>0.493</td>\n",
              "      <td>8</td>\n",
              "      <td>-7.230</td>\n",
              "      <td>1</td>\n",
              "      <td>0.0794</td>\n",
              "      <td>0.4010</td>\n",
              "      <td>0.000000</td>\n",
              "      <td>0.1180</td>\n",
              "      <td>0.1240</td>\n",
              "      <td>115.080</td>\n",
              "      <td>224427</td>\n",
              "      <td>4</td>\n",
              "      <td>Dark Trap</td>\n",
              "    </tr>\n",
              "    <tr>\n",
              "      <th>2</th>\n",
              "      <td>0.850</td>\n",
              "      <td>0.893</td>\n",
              "      <td>5</td>\n",
              "      <td>-4.783</td>\n",
              "      <td>1</td>\n",
              "      <td>0.0623</td>\n",
              "      <td>0.0138</td>\n",
              "      <td>0.000004</td>\n",
              "      <td>0.3720</td>\n",
              "      <td>0.0391</td>\n",
              "      <td>218.050</td>\n",
              "      <td>98821</td>\n",
              "      <td>4</td>\n",
              "      <td>Dark Trap</td>\n",
              "    </tr>\n",
              "    <tr>\n",
              "      <th>3</th>\n",
              "      <td>0.476</td>\n",
              "      <td>0.781</td>\n",
              "      <td>0</td>\n",
              "      <td>-4.710</td>\n",
              "      <td>1</td>\n",
              "      <td>0.1030</td>\n",
              "      <td>0.0237</td>\n",
              "      <td>0.000000</td>\n",
              "      <td>0.1140</td>\n",
              "      <td>0.1750</td>\n",
              "      <td>186.948</td>\n",
              "      <td>123661</td>\n",
              "      <td>3</td>\n",
              "      <td>Dark Trap</td>\n",
              "    </tr>\n",
              "    <tr>\n",
              "      <th>4</th>\n",
              "      <td>0.798</td>\n",
              "      <td>0.624</td>\n",
              "      <td>2</td>\n",
              "      <td>-7.668</td>\n",
              "      <td>1</td>\n",
              "      <td>0.2930</td>\n",
              "      <td>0.2170</td>\n",
              "      <td>0.000000</td>\n",
              "      <td>0.1660</td>\n",
              "      <td>0.5910</td>\n",
              "      <td>147.988</td>\n",
              "      <td>123298</td>\n",
              "      <td>4</td>\n",
              "      <td>Dark Trap</td>\n",
              "    </tr>\n",
              "  </tbody>\n",
              "</table>\n",
              "</div>"
            ],
            "text/plain": [
              "   danceability  energy  key  ...  duration_ms  time_signature      genre\n",
              "0         0.831   0.814    2  ...       124539               4  Dark Trap\n",
              "1         0.719   0.493    8  ...       224427               4  Dark Trap\n",
              "2         0.850   0.893    5  ...        98821               4  Dark Trap\n",
              "3         0.476   0.781    0  ...       123661               3  Dark Trap\n",
              "4         0.798   0.624    2  ...       123298               4  Dark Trap\n",
              "\n",
              "[5 rows x 14 columns]"
            ]
          },
          "metadata": {
            "tags": []
          },
          "execution_count": 31
        }
      ]
    },
    {
      "cell_type": "code",
      "metadata": {
        "id": "6yXlrW3SV2w5",
        "colab": {
          "base_uri": "https://localhost:8080/",
          "height": 204
        },
        "outputId": "f06d162e-c38e-49c0-b3bf-236d6dda2760"
      },
      "source": [
        "play_lists.head()"
      ],
      "execution_count": 32,
      "outputs": [
        {
          "output_type": "execute_result",
          "data": {
            "text/html": [
              "<div>\n",
              "<style scoped>\n",
              "    .dataframe tbody tr th:only-of-type {\n",
              "        vertical-align: middle;\n",
              "    }\n",
              "\n",
              "    .dataframe tbody tr th {\n",
              "        vertical-align: top;\n",
              "    }\n",
              "\n",
              "    .dataframe thead th {\n",
              "        text-align: right;\n",
              "    }\n",
              "</style>\n",
              "<table border=\"1\" class=\"dataframe\">\n",
              "  <thead>\n",
              "    <tr style=\"text-align: right;\">\n",
              "      <th></th>\n",
              "      <th>Playlist</th>\n",
              "      <th>Genre</th>\n",
              "    </tr>\n",
              "  </thead>\n",
              "  <tbody>\n",
              "    <tr>\n",
              "      <th>0</th>\n",
              "      <td>19WuHd4MxWLzE1fpMmw4S4</td>\n",
              "      <td>Dark Trap</td>\n",
              "    </tr>\n",
              "    <tr>\n",
              "      <th>1</th>\n",
              "      <td>6XyR8uzgkSoDzHuOxxRtLH</td>\n",
              "      <td>Dark Trap</td>\n",
              "    </tr>\n",
              "    <tr>\n",
              "      <th>2</th>\n",
              "      <td>37Ij3ofyhvEhFEH8YZMZ2X</td>\n",
              "      <td>Dark Trap</td>\n",
              "    </tr>\n",
              "    <tr>\n",
              "      <th>3</th>\n",
              "      <td>07zTlfPpsxeoWdumbkNWMI</td>\n",
              "      <td>Dark Trap</td>\n",
              "    </tr>\n",
              "    <tr>\n",
              "      <th>4</th>\n",
              "      <td>2dClSRLsnptdkDQnpi5H2f</td>\n",
              "      <td>Dark Trap</td>\n",
              "    </tr>\n",
              "  </tbody>\n",
              "</table>\n",
              "</div>"
            ],
            "text/plain": [
              "                 Playlist      Genre\n",
              "0  19WuHd4MxWLzE1fpMmw4S4  Dark Trap\n",
              "1  6XyR8uzgkSoDzHuOxxRtLH  Dark Trap\n",
              "2  37Ij3ofyhvEhFEH8YZMZ2X  Dark Trap\n",
              "3  07zTlfPpsxeoWdumbkNWMI  Dark Trap\n",
              "4  2dClSRLsnptdkDQnpi5H2f  Dark Trap"
            ]
          },
          "metadata": {
            "tags": []
          },
          "execution_count": 32
        }
      ]
    },
    {
      "cell_type": "code",
      "metadata": {
        "id": "45f4zPBUWGw2",
        "colab": {
          "base_uri": "https://localhost:8080/"
        },
        "outputId": "8b24c253-b115-48f2-f50e-cc956c26fe37"
      },
      "source": [
        "play_lists.isna().sum()"
      ],
      "execution_count": 33,
      "outputs": [
        {
          "output_type": "execute_result",
          "data": {
            "text/plain": [
              "Playlist    0\n",
              "Genre       0\n",
              "dtype: int64"
            ]
          },
          "metadata": {
            "tags": []
          },
          "execution_count": 33
        }
      ]
    },
    {
      "cell_type": "markdown",
      "metadata": {
        "id": "2DJ8rVoxehXi"
      },
      "source": [
        "Let's check and see if we have missing data"
      ]
    },
    {
      "cell_type": "code",
      "metadata": {
        "id": "y_6DhEjCV6SA",
        "colab": {
          "base_uri": "https://localhost:8080/"
        },
        "outputId": "008e14ea-292c-492d-cb30-065e8d34b05b"
      },
      "source": [
        "data.isna().sum()"
      ],
      "execution_count": 34,
      "outputs": [
        {
          "output_type": "execute_result",
          "data": {
            "text/plain": [
              "danceability        0\n",
              "energy              0\n",
              "key                 0\n",
              "loudness            0\n",
              "mode                0\n",
              "speechiness         0\n",
              "acousticness        0\n",
              "instrumentalness    0\n",
              "liveness            0\n",
              "valence             0\n",
              "tempo               0\n",
              "duration_ms         0\n",
              "time_signature      0\n",
              "genre               0\n",
              "dtype: int64"
            ]
          },
          "metadata": {
            "tags": []
          },
          "execution_count": 34
        }
      ]
    },
    {
      "cell_type": "markdown",
      "metadata": {
        "id": "GFH6D42EcWdN"
      },
      "source": [
        "As we can see above, missing values are only in last 3 columns and this will not affect our analysis of predicting genre"
      ]
    },
    {
      "cell_type": "code",
      "metadata": {
        "id": "3rJR3-3KVmR4",
        "colab": {
          "base_uri": "https://localhost:8080/"
        },
        "outputId": "9241cb8b-91d7-4215-8598-c5261ce13842"
      },
      "source": [
        "data = data_1.drop(['title','Unnamed: 0','id','uri','track_href','analysis_url','type','song_name'],axis=1)\n",
        "print(data.columns)"
      ],
      "execution_count": 35,
      "outputs": [
        {
          "output_type": "stream",
          "text": [
            "Index(['danceability', 'energy', 'key', 'loudness', 'mode', 'speechiness',\n",
            "       'acousticness', 'instrumentalness', 'liveness', 'valence', 'tempo',\n",
            "       'duration_ms', 'time_signature', 'genre'],\n",
            "      dtype='object')\n"
          ],
          "name": "stdout"
        }
      ]
    },
    {
      "cell_type": "code",
      "metadata": {
        "id": "xY7lQ4INanP1",
        "colab": {
          "base_uri": "https://localhost:8080/",
          "height": 309
        },
        "outputId": "366d25c8-bc82-4c00-da6e-146b6d1861d7"
      },
      "source": [
        "data.head()"
      ],
      "execution_count": 36,
      "outputs": [
        {
          "output_type": "execute_result",
          "data": {
            "text/html": [
              "<div>\n",
              "<style scoped>\n",
              "    .dataframe tbody tr th:only-of-type {\n",
              "        vertical-align: middle;\n",
              "    }\n",
              "\n",
              "    .dataframe tbody tr th {\n",
              "        vertical-align: top;\n",
              "    }\n",
              "\n",
              "    .dataframe thead th {\n",
              "        text-align: right;\n",
              "    }\n",
              "</style>\n",
              "<table border=\"1\" class=\"dataframe\">\n",
              "  <thead>\n",
              "    <tr style=\"text-align: right;\">\n",
              "      <th></th>\n",
              "      <th>danceability</th>\n",
              "      <th>energy</th>\n",
              "      <th>key</th>\n",
              "      <th>loudness</th>\n",
              "      <th>mode</th>\n",
              "      <th>speechiness</th>\n",
              "      <th>acousticness</th>\n",
              "      <th>instrumentalness</th>\n",
              "      <th>liveness</th>\n",
              "      <th>valence</th>\n",
              "      <th>tempo</th>\n",
              "      <th>duration_ms</th>\n",
              "      <th>time_signature</th>\n",
              "      <th>genre</th>\n",
              "    </tr>\n",
              "  </thead>\n",
              "  <tbody>\n",
              "    <tr>\n",
              "      <th>0</th>\n",
              "      <td>0.831</td>\n",
              "      <td>0.814</td>\n",
              "      <td>2</td>\n",
              "      <td>-7.364</td>\n",
              "      <td>1</td>\n",
              "      <td>0.4200</td>\n",
              "      <td>0.0598</td>\n",
              "      <td>0.013400</td>\n",
              "      <td>0.0556</td>\n",
              "      <td>0.3890</td>\n",
              "      <td>156.985</td>\n",
              "      <td>124539</td>\n",
              "      <td>4</td>\n",
              "      <td>Dark Trap</td>\n",
              "    </tr>\n",
              "    <tr>\n",
              "      <th>1</th>\n",
              "      <td>0.719</td>\n",
              "      <td>0.493</td>\n",
              "      <td>8</td>\n",
              "      <td>-7.230</td>\n",
              "      <td>1</td>\n",
              "      <td>0.0794</td>\n",
              "      <td>0.4010</td>\n",
              "      <td>0.000000</td>\n",
              "      <td>0.1180</td>\n",
              "      <td>0.1240</td>\n",
              "      <td>115.080</td>\n",
              "      <td>224427</td>\n",
              "      <td>4</td>\n",
              "      <td>Dark Trap</td>\n",
              "    </tr>\n",
              "    <tr>\n",
              "      <th>2</th>\n",
              "      <td>0.850</td>\n",
              "      <td>0.893</td>\n",
              "      <td>5</td>\n",
              "      <td>-4.783</td>\n",
              "      <td>1</td>\n",
              "      <td>0.0623</td>\n",
              "      <td>0.0138</td>\n",
              "      <td>0.000004</td>\n",
              "      <td>0.3720</td>\n",
              "      <td>0.0391</td>\n",
              "      <td>218.050</td>\n",
              "      <td>98821</td>\n",
              "      <td>4</td>\n",
              "      <td>Dark Trap</td>\n",
              "    </tr>\n",
              "    <tr>\n",
              "      <th>3</th>\n",
              "      <td>0.476</td>\n",
              "      <td>0.781</td>\n",
              "      <td>0</td>\n",
              "      <td>-4.710</td>\n",
              "      <td>1</td>\n",
              "      <td>0.1030</td>\n",
              "      <td>0.0237</td>\n",
              "      <td>0.000000</td>\n",
              "      <td>0.1140</td>\n",
              "      <td>0.1750</td>\n",
              "      <td>186.948</td>\n",
              "      <td>123661</td>\n",
              "      <td>3</td>\n",
              "      <td>Dark Trap</td>\n",
              "    </tr>\n",
              "    <tr>\n",
              "      <th>4</th>\n",
              "      <td>0.798</td>\n",
              "      <td>0.624</td>\n",
              "      <td>2</td>\n",
              "      <td>-7.668</td>\n",
              "      <td>1</td>\n",
              "      <td>0.2930</td>\n",
              "      <td>0.2170</td>\n",
              "      <td>0.000000</td>\n",
              "      <td>0.1660</td>\n",
              "      <td>0.5910</td>\n",
              "      <td>147.988</td>\n",
              "      <td>123298</td>\n",
              "      <td>4</td>\n",
              "      <td>Dark Trap</td>\n",
              "    </tr>\n",
              "  </tbody>\n",
              "</table>\n",
              "</div>"
            ],
            "text/plain": [
              "   danceability  energy  key  ...  duration_ms  time_signature      genre\n",
              "0         0.831   0.814    2  ...       124539               4  Dark Trap\n",
              "1         0.719   0.493    8  ...       224427               4  Dark Trap\n",
              "2         0.850   0.893    5  ...        98821               4  Dark Trap\n",
              "3         0.476   0.781    0  ...       123661               3  Dark Trap\n",
              "4         0.798   0.624    2  ...       123298               4  Dark Trap\n",
              "\n",
              "[5 rows x 14 columns]"
            ]
          },
          "metadata": {
            "tags": []
          },
          "execution_count": 36
        }
      ]
    },
    {
      "cell_type": "code",
      "metadata": {
        "id": "VkdabAzVcPEM",
        "colab": {
          "base_uri": "https://localhost:8080/"
        },
        "outputId": "005e7d84-cc6c-43d3-d80e-cc545b629232"
      },
      "source": [
        "data.isna().sum()"
      ],
      "execution_count": 37,
      "outputs": [
        {
          "output_type": "execute_result",
          "data": {
            "text/plain": [
              "danceability        0\n",
              "energy              0\n",
              "key                 0\n",
              "loudness            0\n",
              "mode                0\n",
              "speechiness         0\n",
              "acousticness        0\n",
              "instrumentalness    0\n",
              "liveness            0\n",
              "valence             0\n",
              "tempo               0\n",
              "duration_ms         0\n",
              "time_signature      0\n",
              "genre               0\n",
              "dtype: int64"
            ]
          },
          "metadata": {
            "tags": []
          },
          "execution_count": 37
        }
      ]
    },
    {
      "cell_type": "code",
      "metadata": {
        "id": "h8wy1eCirmpS",
        "colab": {
          "base_uri": "https://localhost:8080/"
        },
        "outputId": "ed05ae56-4871-4f22-cbed-9e2452b07910"
      },
      "source": [
        "data.shape"
      ],
      "execution_count": 38,
      "outputs": [
        {
          "output_type": "execute_result",
          "data": {
            "text/plain": [
              "(42305, 14)"
            ]
          },
          "metadata": {
            "tags": []
          },
          "execution_count": 38
        }
      ]
    },
    {
      "cell_type": "code",
      "metadata": {
        "id": "J0qQhffDroAz"
      },
      "source": [
        "genre = data['genre']"
      ],
      "execution_count": 39,
      "outputs": []
    },
    {
      "cell_type": "code",
      "metadata": {
        "id": "-hExEmbXrqJW",
        "colab": {
          "base_uri": "https://localhost:8080/"
        },
        "outputId": "559e6445-d345-4d64-b52d-f04fc5f0065b"
      },
      "source": [
        "np.unique(genre)"
      ],
      "execution_count": 40,
      "outputs": [
        {
          "output_type": "execute_result",
          "data": {
            "text/plain": [
              "array(['Dark Trap', 'Emo', 'Hiphop', 'Pop', 'Rap', 'RnB', 'Trap Metal',\n",
              "       'Underground Rap', 'dnb', 'hardstyle', 'psytrance', 'techhouse',\n",
              "       'techno', 'trance', 'trap'], dtype=object)"
            ]
          },
          "metadata": {
            "tags": []
          },
          "execution_count": 40
        }
      ]
    },
    {
      "cell_type": "code",
      "metadata": {
        "id": "Xvvrhq3brsq5"
      },
      "source": [
        "grouped_genre = data.groupby('genre')"
      ],
      "execution_count": 41,
      "outputs": []
    },
    {
      "cell_type": "code",
      "metadata": {
        "id": "_BNcYcIbrwDX",
        "colab": {
          "base_uri": "https://localhost:8080/",
          "height": 582
        },
        "outputId": "5d154250-c9b3-4a4f-e95f-25b6869d153d"
      },
      "source": [
        "grouped_genre.mean()"
      ],
      "execution_count": 42,
      "outputs": [
        {
          "output_type": "execute_result",
          "data": {
            "text/html": [
              "<div>\n",
              "<style scoped>\n",
              "    .dataframe tbody tr th:only-of-type {\n",
              "        vertical-align: middle;\n",
              "    }\n",
              "\n",
              "    .dataframe tbody tr th {\n",
              "        vertical-align: top;\n",
              "    }\n",
              "\n",
              "    .dataframe thead th {\n",
              "        text-align: right;\n",
              "    }\n",
              "</style>\n",
              "<table border=\"1\" class=\"dataframe\">\n",
              "  <thead>\n",
              "    <tr style=\"text-align: right;\">\n",
              "      <th></th>\n",
              "      <th>danceability</th>\n",
              "      <th>energy</th>\n",
              "      <th>key</th>\n",
              "      <th>loudness</th>\n",
              "      <th>mode</th>\n",
              "      <th>speechiness</th>\n",
              "      <th>acousticness</th>\n",
              "      <th>instrumentalness</th>\n",
              "      <th>liveness</th>\n",
              "      <th>valence</th>\n",
              "      <th>tempo</th>\n",
              "      <th>duration_ms</th>\n",
              "      <th>time_signature</th>\n",
              "    </tr>\n",
              "    <tr>\n",
              "      <th>genre</th>\n",
              "      <th></th>\n",
              "      <th></th>\n",
              "      <th></th>\n",
              "      <th></th>\n",
              "      <th></th>\n",
              "      <th></th>\n",
              "      <th></th>\n",
              "      <th></th>\n",
              "      <th></th>\n",
              "      <th></th>\n",
              "      <th></th>\n",
              "      <th></th>\n",
              "      <th></th>\n",
              "    </tr>\n",
              "  </thead>\n",
              "  <tbody>\n",
              "    <tr>\n",
              "      <th>Dark Trap</th>\n",
              "      <td>0.618834</td>\n",
              "      <td>0.646851</td>\n",
              "      <td>5.298384</td>\n",
              "      <td>-7.998401</td>\n",
              "      <td>0.536479</td>\n",
              "      <td>0.123434</td>\n",
              "      <td>0.159493</td>\n",
              "      <td>0.277276</td>\n",
              "      <td>0.185081</td>\n",
              "      <td>0.273663</td>\n",
              "      <td>149.791186</td>\n",
              "      <td>187707.330275</td>\n",
              "      <td>3.961337</td>\n",
              "    </tr>\n",
              "    <tr>\n",
              "      <th>Emo</th>\n",
              "      <td>0.493699</td>\n",
              "      <td>0.761175</td>\n",
              "      <td>5.052976</td>\n",
              "      <td>-5.433641</td>\n",
              "      <td>0.685714</td>\n",
              "      <td>0.080325</td>\n",
              "      <td>0.143094</td>\n",
              "      <td>0.011402</td>\n",
              "      <td>0.195243</td>\n",
              "      <td>0.444145</td>\n",
              "      <td>153.888640</td>\n",
              "      <td>218317.432143</td>\n",
              "      <td>3.938690</td>\n",
              "    </tr>\n",
              "    <tr>\n",
              "      <th>Hiphop</th>\n",
              "      <td>0.698982</td>\n",
              "      <td>0.654418</td>\n",
              "      <td>5.553170</td>\n",
              "      <td>-7.014983</td>\n",
              "      <td>0.527741</td>\n",
              "      <td>0.217150</td>\n",
              "      <td>0.195569</td>\n",
              "      <td>0.017154</td>\n",
              "      <td>0.210581</td>\n",
              "      <td>0.523628</td>\n",
              "      <td>162.980479</td>\n",
              "      <td>227954.272787</td>\n",
              "      <td>3.975561</td>\n",
              "    </tr>\n",
              "    <tr>\n",
              "      <th>Pop</th>\n",
              "      <td>0.676807</td>\n",
              "      <td>0.697638</td>\n",
              "      <td>5.399132</td>\n",
              "      <td>-5.632072</td>\n",
              "      <td>0.548807</td>\n",
              "      <td>0.088363</td>\n",
              "      <td>0.149251</td>\n",
              "      <td>0.013831</td>\n",
              "      <td>0.177949</td>\n",
              "      <td>0.550264</td>\n",
              "      <td>152.098937</td>\n",
              "      <td>211392.828633</td>\n",
              "      <td>3.984816</td>\n",
              "    </tr>\n",
              "    <tr>\n",
              "      <th>Rap</th>\n",
              "      <td>0.742877</td>\n",
              "      <td>0.620083</td>\n",
              "      <td>5.048701</td>\n",
              "      <td>-6.887086</td>\n",
              "      <td>0.522186</td>\n",
              "      <td>0.217862</td>\n",
              "      <td>0.170566</td>\n",
              "      <td>0.006939</td>\n",
              "      <td>0.181320</td>\n",
              "      <td>0.440921</td>\n",
              "      <td>126.006374</td>\n",
              "      <td>203007.674784</td>\n",
              "      <td>3.985931</td>\n",
              "    </tr>\n",
              "    <tr>\n",
              "      <th>RnB</th>\n",
              "      <td>0.674206</td>\n",
              "      <td>0.598884</td>\n",
              "      <td>5.021915</td>\n",
              "      <td>-6.899896</td>\n",
              "      <td>0.532158</td>\n",
              "      <td>0.143110</td>\n",
              "      <td>0.225276</td>\n",
              "      <td>0.007400</td>\n",
              "      <td>0.178984</td>\n",
              "      <td>0.493974</td>\n",
              "      <td>157.533793</td>\n",
              "      <td>226402.473559</td>\n",
              "      <td>3.960934</td>\n",
              "    </tr>\n",
              "    <tr>\n",
              "      <th>Trap Metal</th>\n",
              "      <td>0.647564</td>\n",
              "      <td>0.749157</td>\n",
              "      <td>4.663088</td>\n",
              "      <td>-5.879087</td>\n",
              "      <td>0.717791</td>\n",
              "      <td>0.209677</td>\n",
              "      <td>0.114926</td>\n",
              "      <td>0.057051</td>\n",
              "      <td>0.243655</td>\n",
              "      <td>0.348786</td>\n",
              "      <td>148.684947</td>\n",
              "      <td>147195.234151</td>\n",
              "      <td>3.953476</td>\n",
              "    </tr>\n",
              "    <tr>\n",
              "      <th>Underground Rap</th>\n",
              "      <td>0.744658</td>\n",
              "      <td>0.635776</td>\n",
              "      <td>5.059064</td>\n",
              "      <td>-7.362036</td>\n",
              "      <td>0.613617</td>\n",
              "      <td>0.224992</td>\n",
              "      <td>0.162708</td>\n",
              "      <td>0.025280</td>\n",
              "      <td>0.191116</td>\n",
              "      <td>0.444629</td>\n",
              "      <td>152.914521</td>\n",
              "      <td>176152.595234</td>\n",
              "      <td>3.979915</td>\n",
              "    </tr>\n",
              "    <tr>\n",
              "      <th>dnb</th>\n",
              "      <td>0.520944</td>\n",
              "      <td>0.873433</td>\n",
              "      <td>5.619016</td>\n",
              "      <td>-4.063237</td>\n",
              "      <td>0.446055</td>\n",
              "      <td>0.083478</td>\n",
              "      <td>0.019543</td>\n",
              "      <td>0.459998</td>\n",
              "      <td>0.202883</td>\n",
              "      <td>0.253062</td>\n",
              "      <td>173.849166</td>\n",
              "      <td>286548.825017</td>\n",
              "      <td>3.998314</td>\n",
              "    </tr>\n",
              "    <tr>\n",
              "      <th>hardstyle</th>\n",
              "      <td>0.478027</td>\n",
              "      <td>0.896238</td>\n",
              "      <td>5.710831</td>\n",
              "      <td>-4.349444</td>\n",
              "      <td>0.360695</td>\n",
              "      <td>0.094624</td>\n",
              "      <td>0.040841</td>\n",
              "      <td>0.137431</td>\n",
              "      <td>0.273830</td>\n",
              "      <td>0.267171</td>\n",
              "      <td>150.659340</td>\n",
              "      <td>229493.391349</td>\n",
              "      <td>3.964237</td>\n",
              "    </tr>\n",
              "    <tr>\n",
              "      <th>psytrance</th>\n",
              "      <td>0.617462</td>\n",
              "      <td>0.902392</td>\n",
              "      <td>5.989531</td>\n",
              "      <td>-6.703383</td>\n",
              "      <td>0.598446</td>\n",
              "      <td>0.060425</td>\n",
              "      <td>0.006333</td>\n",
              "      <td>0.766458</td>\n",
              "      <td>0.293434</td>\n",
              "      <td>0.259625</td>\n",
              "      <td>142.688529</td>\n",
              "      <td>445575.322864</td>\n",
              "      <td>3.961499</td>\n",
              "    </tr>\n",
              "    <tr>\n",
              "      <th>techhouse</th>\n",
              "      <td>0.786794</td>\n",
              "      <td>0.834481</td>\n",
              "      <td>5.794622</td>\n",
              "      <td>-7.054302</td>\n",
              "      <td>0.567395</td>\n",
              "      <td>0.072255</td>\n",
              "      <td>0.014223</td>\n",
              "      <td>0.580083</td>\n",
              "      <td>0.141387</td>\n",
              "      <td>0.568175</td>\n",
              "      <td>124.927316</td>\n",
              "      <td>291691.778151</td>\n",
              "      <td>3.993277</td>\n",
              "    </tr>\n",
              "    <tr>\n",
              "      <th>techno</th>\n",
              "      <td>0.715742</td>\n",
              "      <td>0.795714</td>\n",
              "      <td>5.698917</td>\n",
              "      <td>-9.290230</td>\n",
              "      <td>0.582544</td>\n",
              "      <td>0.066170</td>\n",
              "      <td>0.039556</td>\n",
              "      <td>0.847089</td>\n",
              "      <td>0.149137</td>\n",
              "      <td>0.192331</td>\n",
              "      <td>128.971052</td>\n",
              "      <td>399263.969553</td>\n",
              "      <td>3.945873</td>\n",
              "    </tr>\n",
              "    <tr>\n",
              "      <th>trance</th>\n",
              "      <td>0.507724</td>\n",
              "      <td>0.892435</td>\n",
              "      <td>5.389797</td>\n",
              "      <td>-6.907600</td>\n",
              "      <td>0.442814</td>\n",
              "      <td>0.071306</td>\n",
              "      <td>0.012970</td>\n",
              "      <td>0.495374</td>\n",
              "      <td>0.296976</td>\n",
              "      <td>0.220285</td>\n",
              "      <td>134.625598</td>\n",
              "      <td>287512.124708</td>\n",
              "      <td>3.985995</td>\n",
              "    </tr>\n",
              "    <tr>\n",
              "      <th>trap</th>\n",
              "      <td>0.593180</td>\n",
              "      <td>0.906060</td>\n",
              "      <td>5.024439</td>\n",
              "      <td>-2.725578</td>\n",
              "      <td>0.603616</td>\n",
              "      <td>0.205966</td>\n",
              "      <td>0.024439</td>\n",
              "      <td>0.196289</td>\n",
              "      <td>0.276127</td>\n",
              "      <td>0.301178</td>\n",
              "      <td>147.691379</td>\n",
              "      <td>225174.448945</td>\n",
              "      <td>3.987948</td>\n",
              "    </tr>\n",
              "  </tbody>\n",
              "</table>\n",
              "</div>"
            ],
            "text/plain": [
              "                 danceability    energy  ...    duration_ms  time_signature\n",
              "genre                                    ...                               \n",
              "Dark Trap            0.618834  0.646851  ...  187707.330275        3.961337\n",
              "Emo                  0.493699  0.761175  ...  218317.432143        3.938690\n",
              "Hiphop               0.698982  0.654418  ...  227954.272787        3.975561\n",
              "Pop                  0.676807  0.697638  ...  211392.828633        3.984816\n",
              "Rap                  0.742877  0.620083  ...  203007.674784        3.985931\n",
              "RnB                  0.674206  0.598884  ...  226402.473559        3.960934\n",
              "Trap Metal           0.647564  0.749157  ...  147195.234151        3.953476\n",
              "Underground Rap      0.744658  0.635776  ...  176152.595234        3.979915\n",
              "dnb                  0.520944  0.873433  ...  286548.825017        3.998314\n",
              "hardstyle            0.478027  0.896238  ...  229493.391349        3.964237\n",
              "psytrance            0.617462  0.902392  ...  445575.322864        3.961499\n",
              "techhouse            0.786794  0.834481  ...  291691.778151        3.993277\n",
              "techno               0.715742  0.795714  ...  399263.969553        3.945873\n",
              "trance               0.507724  0.892435  ...  287512.124708        3.985995\n",
              "trap                 0.593180  0.906060  ...  225174.448945        3.987948\n",
              "\n",
              "[15 rows x 13 columns]"
            ]
          },
          "metadata": {
            "tags": []
          },
          "execution_count": 42
        }
      ]
    },
    {
      "cell_type": "code",
      "metadata": {
        "id": "Z0YFHR8KryFR",
        "colab": {
          "base_uri": "https://localhost:8080/",
          "height": 582
        },
        "outputId": "56845563-6b8f-4e79-efa2-14bae7faa583"
      },
      "source": [
        "grouped_genre.min()"
      ],
      "execution_count": 43,
      "outputs": [
        {
          "output_type": "execute_result",
          "data": {
            "text/html": [
              "<div>\n",
              "<style scoped>\n",
              "    .dataframe tbody tr th:only-of-type {\n",
              "        vertical-align: middle;\n",
              "    }\n",
              "\n",
              "    .dataframe tbody tr th {\n",
              "        vertical-align: top;\n",
              "    }\n",
              "\n",
              "    .dataframe thead th {\n",
              "        text-align: right;\n",
              "    }\n",
              "</style>\n",
              "<table border=\"1\" class=\"dataframe\">\n",
              "  <thead>\n",
              "    <tr style=\"text-align: right;\">\n",
              "      <th></th>\n",
              "      <th>danceability</th>\n",
              "      <th>energy</th>\n",
              "      <th>key</th>\n",
              "      <th>loudness</th>\n",
              "      <th>mode</th>\n",
              "      <th>speechiness</th>\n",
              "      <th>acousticness</th>\n",
              "      <th>instrumentalness</th>\n",
              "      <th>liveness</th>\n",
              "      <th>valence</th>\n",
              "      <th>tempo</th>\n",
              "      <th>duration_ms</th>\n",
              "      <th>time_signature</th>\n",
              "    </tr>\n",
              "    <tr>\n",
              "      <th>genre</th>\n",
              "      <th></th>\n",
              "      <th></th>\n",
              "      <th></th>\n",
              "      <th></th>\n",
              "      <th></th>\n",
              "      <th></th>\n",
              "      <th></th>\n",
              "      <th></th>\n",
              "      <th></th>\n",
              "      <th></th>\n",
              "      <th></th>\n",
              "      <th></th>\n",
              "      <th></th>\n",
              "    </tr>\n",
              "  </thead>\n",
              "  <tbody>\n",
              "    <tr>\n",
              "      <th>Dark Trap</th>\n",
              "      <td>0.0979</td>\n",
              "      <td>0.000243</td>\n",
              "      <td>0</td>\n",
              "      <td>-25.222</td>\n",
              "      <td>0</td>\n",
              "      <td>0.0242</td>\n",
              "      <td>0.000001</td>\n",
              "      <td>0.000000</td>\n",
              "      <td>0.0307</td>\n",
              "      <td>0.0235</td>\n",
              "      <td>75.418</td>\n",
              "      <td>42133</td>\n",
              "      <td>1</td>\n",
              "    </tr>\n",
              "    <tr>\n",
              "      <th>Emo</th>\n",
              "      <td>0.1110</td>\n",
              "      <td>0.014800</td>\n",
              "      <td>0</td>\n",
              "      <td>-32.929</td>\n",
              "      <td>0</td>\n",
              "      <td>0.0232</td>\n",
              "      <td>0.000001</td>\n",
              "      <td>0.000000</td>\n",
              "      <td>0.0210</td>\n",
              "      <td>0.0358</td>\n",
              "      <td>87.018</td>\n",
              "      <td>50720</td>\n",
              "      <td>1</td>\n",
              "    </tr>\n",
              "    <tr>\n",
              "      <th>Hiphop</th>\n",
              "      <td>0.1970</td>\n",
              "      <td>0.027900</td>\n",
              "      <td>0</td>\n",
              "      <td>-24.694</td>\n",
              "      <td>0</td>\n",
              "      <td>0.0227</td>\n",
              "      <td>0.000017</td>\n",
              "      <td>0.000000</td>\n",
              "      <td>0.0219</td>\n",
              "      <td>0.0352</td>\n",
              "      <td>95.622</td>\n",
              "      <td>38333</td>\n",
              "      <td>1</td>\n",
              "    </tr>\n",
              "    <tr>\n",
              "      <th>Pop</th>\n",
              "      <td>0.2090</td>\n",
              "      <td>0.173000</td>\n",
              "      <td>0</td>\n",
              "      <td>-16.423</td>\n",
              "      <td>0</td>\n",
              "      <td>0.0232</td>\n",
              "      <td>0.000068</td>\n",
              "      <td>0.000000</td>\n",
              "      <td>0.0215</td>\n",
              "      <td>0.0383</td>\n",
              "      <td>106.960</td>\n",
              "      <td>121143</td>\n",
              "      <td>1</td>\n",
              "    </tr>\n",
              "    <tr>\n",
              "      <th>Rap</th>\n",
              "      <td>0.2410</td>\n",
              "      <td>0.144000</td>\n",
              "      <td>0</td>\n",
              "      <td>-19.720</td>\n",
              "      <td>0</td>\n",
              "      <td>0.0271</td>\n",
              "      <td>0.000151</td>\n",
              "      <td>0.000000</td>\n",
              "      <td>0.0221</td>\n",
              "      <td>0.0362</td>\n",
              "      <td>57.967</td>\n",
              "      <td>77500</td>\n",
              "      <td>1</td>\n",
              "    </tr>\n",
              "    <tr>\n",
              "      <th>RnB</th>\n",
              "      <td>0.1910</td>\n",
              "      <td>0.060900</td>\n",
              "      <td>0</td>\n",
              "      <td>-29.478</td>\n",
              "      <td>0</td>\n",
              "      <td>0.0239</td>\n",
              "      <td>0.000081</td>\n",
              "      <td>0.000000</td>\n",
              "      <td>0.0235</td>\n",
              "      <td>0.0338</td>\n",
              "      <td>91.560</td>\n",
              "      <td>62213</td>\n",
              "      <td>1</td>\n",
              "    </tr>\n",
              "    <tr>\n",
              "      <th>Trap Metal</th>\n",
              "      <td>0.0651</td>\n",
              "      <td>0.000243</td>\n",
              "      <td>0</td>\n",
              "      <td>-33.357</td>\n",
              "      <td>0</td>\n",
              "      <td>0.0242</td>\n",
              "      <td>0.000001</td>\n",
              "      <td>0.000000</td>\n",
              "      <td>0.0221</td>\n",
              "      <td>0.0206</td>\n",
              "      <td>74.716</td>\n",
              "      <td>52963</td>\n",
              "      <td>1</td>\n",
              "    </tr>\n",
              "    <tr>\n",
              "      <th>Underground Rap</th>\n",
              "      <td>0.2410</td>\n",
              "      <td>0.134000</td>\n",
              "      <td>0</td>\n",
              "      <td>-21.657</td>\n",
              "      <td>0</td>\n",
              "      <td>0.0251</td>\n",
              "      <td>0.000018</td>\n",
              "      <td>0.000000</td>\n",
              "      <td>0.0221</td>\n",
              "      <td>0.0294</td>\n",
              "      <td>95.622</td>\n",
              "      <td>49227</td>\n",
              "      <td>1</td>\n",
              "    </tr>\n",
              "    <tr>\n",
              "      <th>dnb</th>\n",
              "      <td>0.1380</td>\n",
              "      <td>0.349000</td>\n",
              "      <td>0</td>\n",
              "      <td>-17.088</td>\n",
              "      <td>0</td>\n",
              "      <td>0.0265</td>\n",
              "      <td>0.000003</td>\n",
              "      <td>0.000000</td>\n",
              "      <td>0.0189</td>\n",
              "      <td>0.0253</td>\n",
              "      <td>169.857</td>\n",
              "      <td>35862</td>\n",
              "      <td>1</td>\n",
              "    </tr>\n",
              "    <tr>\n",
              "      <th>hardstyle</th>\n",
              "      <td>0.0891</td>\n",
              "      <td>0.464000</td>\n",
              "      <td>0</td>\n",
              "      <td>-16.475</td>\n",
              "      <td>0</td>\n",
              "      <td>0.0253</td>\n",
              "      <td>0.000008</td>\n",
              "      <td>0.000000</td>\n",
              "      <td>0.0153</td>\n",
              "      <td>0.0318</td>\n",
              "      <td>143.803</td>\n",
              "      <td>91617</td>\n",
              "      <td>1</td>\n",
              "    </tr>\n",
              "    <tr>\n",
              "      <th>psytrance</th>\n",
              "      <td>0.2900</td>\n",
              "      <td>0.388000</td>\n",
              "      <td>0</td>\n",
              "      <td>-16.694</td>\n",
              "      <td>0</td>\n",
              "      <td>0.0300</td>\n",
              "      <td>0.000002</td>\n",
              "      <td>0.000924</td>\n",
              "      <td>0.0228</td>\n",
              "      <td>0.0228</td>\n",
              "      <td>128.008</td>\n",
              "      <td>108000</td>\n",
              "      <td>3</td>\n",
              "    </tr>\n",
              "    <tr>\n",
              "      <th>techhouse</th>\n",
              "      <td>0.3680</td>\n",
              "      <td>0.231000</td>\n",
              "      <td>0</td>\n",
              "      <td>-22.714</td>\n",
              "      <td>0</td>\n",
              "      <td>0.0269</td>\n",
              "      <td>0.000004</td>\n",
              "      <td>0.000000</td>\n",
              "      <td>0.0107</td>\n",
              "      <td>0.0242</td>\n",
              "      <td>119.900</td>\n",
              "      <td>67431</td>\n",
              "      <td>1</td>\n",
              "    </tr>\n",
              "    <tr>\n",
              "      <th>techno</th>\n",
              "      <td>0.2540</td>\n",
              "      <td>0.188000</td>\n",
              "      <td>0</td>\n",
              "      <td>-26.172</td>\n",
              "      <td>0</td>\n",
              "      <td>0.0276</td>\n",
              "      <td>0.000001</td>\n",
              "      <td>0.000000</td>\n",
              "      <td>0.0222</td>\n",
              "      <td>0.0187</td>\n",
              "      <td>120.001</td>\n",
              "      <td>119629</td>\n",
              "      <td>1</td>\n",
              "    </tr>\n",
              "    <tr>\n",
              "      <th>trance</th>\n",
              "      <td>0.1210</td>\n",
              "      <td>0.282000</td>\n",
              "      <td>0</td>\n",
              "      <td>-19.708</td>\n",
              "      <td>0</td>\n",
              "      <td>0.0259</td>\n",
              "      <td>0.000003</td>\n",
              "      <td>0.000000</td>\n",
              "      <td>0.0159</td>\n",
              "      <td>0.0199</td>\n",
              "      <td>125.000</td>\n",
              "      <td>48667</td>\n",
              "      <td>3</td>\n",
              "    </tr>\n",
              "    <tr>\n",
              "      <th>trap</th>\n",
              "      <td>0.1500</td>\n",
              "      <td>0.205000</td>\n",
              "      <td>0</td>\n",
              "      <td>-17.419</td>\n",
              "      <td>0</td>\n",
              "      <td>0.0272</td>\n",
              "      <td>0.000006</td>\n",
              "      <td>0.000000</td>\n",
              "      <td>0.0241</td>\n",
              "      <td>0.0237</td>\n",
              "      <td>135.019</td>\n",
              "      <td>25600</td>\n",
              "      <td>1</td>\n",
              "    </tr>\n",
              "  </tbody>\n",
              "</table>\n",
              "</div>"
            ],
            "text/plain": [
              "                 danceability    energy  ...  duration_ms  time_signature\n",
              "genre                                    ...                             \n",
              "Dark Trap              0.0979  0.000243  ...        42133               1\n",
              "Emo                    0.1110  0.014800  ...        50720               1\n",
              "Hiphop                 0.1970  0.027900  ...        38333               1\n",
              "Pop                    0.2090  0.173000  ...       121143               1\n",
              "Rap                    0.2410  0.144000  ...        77500               1\n",
              "RnB                    0.1910  0.060900  ...        62213               1\n",
              "Trap Metal             0.0651  0.000243  ...        52963               1\n",
              "Underground Rap        0.2410  0.134000  ...        49227               1\n",
              "dnb                    0.1380  0.349000  ...        35862               1\n",
              "hardstyle              0.0891  0.464000  ...        91617               1\n",
              "psytrance              0.2900  0.388000  ...       108000               3\n",
              "techhouse              0.3680  0.231000  ...        67431               1\n",
              "techno                 0.2540  0.188000  ...       119629               1\n",
              "trance                 0.1210  0.282000  ...        48667               3\n",
              "trap                   0.1500  0.205000  ...        25600               1\n",
              "\n",
              "[15 rows x 13 columns]"
            ]
          },
          "metadata": {
            "tags": []
          },
          "execution_count": 43
        }
      ]
    },
    {
      "cell_type": "code",
      "metadata": {
        "id": "rG_E5RtFry4g",
        "colab": {
          "base_uri": "https://localhost:8080/",
          "height": 582
        },
        "outputId": "f4796199-b2ab-463c-dd94-0f898a91128f"
      },
      "source": [
        "grouped_genre.max()"
      ],
      "execution_count": 44,
      "outputs": [
        {
          "output_type": "execute_result",
          "data": {
            "text/html": [
              "<div>\n",
              "<style scoped>\n",
              "    .dataframe tbody tr th:only-of-type {\n",
              "        vertical-align: middle;\n",
              "    }\n",
              "\n",
              "    .dataframe tbody tr th {\n",
              "        vertical-align: top;\n",
              "    }\n",
              "\n",
              "    .dataframe thead th {\n",
              "        text-align: right;\n",
              "    }\n",
              "</style>\n",
              "<table border=\"1\" class=\"dataframe\">\n",
              "  <thead>\n",
              "    <tr style=\"text-align: right;\">\n",
              "      <th></th>\n",
              "      <th>danceability</th>\n",
              "      <th>energy</th>\n",
              "      <th>key</th>\n",
              "      <th>loudness</th>\n",
              "      <th>mode</th>\n",
              "      <th>speechiness</th>\n",
              "      <th>acousticness</th>\n",
              "      <th>instrumentalness</th>\n",
              "      <th>liveness</th>\n",
              "      <th>valence</th>\n",
              "      <th>tempo</th>\n",
              "      <th>duration_ms</th>\n",
              "      <th>time_signature</th>\n",
              "    </tr>\n",
              "    <tr>\n",
              "      <th>genre</th>\n",
              "      <th></th>\n",
              "      <th></th>\n",
              "      <th></th>\n",
              "      <th></th>\n",
              "      <th></th>\n",
              "      <th></th>\n",
              "      <th></th>\n",
              "      <th></th>\n",
              "      <th></th>\n",
              "      <th></th>\n",
              "      <th></th>\n",
              "      <th></th>\n",
              "      <th></th>\n",
              "    </tr>\n",
              "  </thead>\n",
              "  <tbody>\n",
              "    <tr>\n",
              "      <th>Dark Trap</th>\n",
              "      <td>0.985</td>\n",
              "      <td>0.998</td>\n",
              "      <td>11</td>\n",
              "      <td>1.646</td>\n",
              "      <td>1</td>\n",
              "      <td>0.946</td>\n",
              "      <td>0.984</td>\n",
              "      <td>0.989</td>\n",
              "      <td>0.958</td>\n",
              "      <td>0.968</td>\n",
              "      <td>220.290</td>\n",
              "      <td>534857</td>\n",
              "      <td>5</td>\n",
              "    </tr>\n",
              "    <tr>\n",
              "      <th>Emo</th>\n",
              "      <td>0.926</td>\n",
              "      <td>0.995</td>\n",
              "      <td>11</td>\n",
              "      <td>-0.946</td>\n",
              "      <td>1</td>\n",
              "      <td>0.729</td>\n",
              "      <td>0.988</td>\n",
              "      <td>0.952</td>\n",
              "      <td>0.943</td>\n",
              "      <td>0.971</td>\n",
              "      <td>208.951</td>\n",
              "      <td>548253</td>\n",
              "      <td>5</td>\n",
              "    </tr>\n",
              "    <tr>\n",
              "      <th>Hiphop</th>\n",
              "      <td>0.988</td>\n",
              "      <td>0.978</td>\n",
              "      <td>11</td>\n",
              "      <td>-0.067</td>\n",
              "      <td>1</td>\n",
              "      <td>0.944</td>\n",
              "      <td>0.982</td>\n",
              "      <td>0.947</td>\n",
              "      <td>0.973</td>\n",
              "      <td>0.975</td>\n",
              "      <td>206.247</td>\n",
              "      <td>723573</td>\n",
              "      <td>5</td>\n",
              "    </tr>\n",
              "    <tr>\n",
              "      <th>Pop</th>\n",
              "      <td>0.935</td>\n",
              "      <td>0.977</td>\n",
              "      <td>11</td>\n",
              "      <td>-2.058</td>\n",
              "      <td>1</td>\n",
              "      <td>0.463</td>\n",
              "      <td>0.948</td>\n",
              "      <td>0.947</td>\n",
              "      <td>0.790</td>\n",
              "      <td>0.966</td>\n",
              "      <td>210.796</td>\n",
              "      <td>484147</td>\n",
              "      <td>5</td>\n",
              "    </tr>\n",
              "    <tr>\n",
              "      <th>Rap</th>\n",
              "      <td>0.981</td>\n",
              "      <td>0.980</td>\n",
              "      <td>11</td>\n",
              "      <td>-1.181</td>\n",
              "      <td>1</td>\n",
              "      <td>0.833</td>\n",
              "      <td>0.883</td>\n",
              "      <td>0.951</td>\n",
              "      <td>0.892</td>\n",
              "      <td>0.970</td>\n",
              "      <td>205.895</td>\n",
              "      <td>728413</td>\n",
              "      <td>5</td>\n",
              "    </tr>\n",
              "    <tr>\n",
              "      <th>RnB</th>\n",
              "      <td>0.978</td>\n",
              "      <td>0.974</td>\n",
              "      <td>11</td>\n",
              "      <td>0.175</td>\n",
              "      <td>1</td>\n",
              "      <td>0.786</td>\n",
              "      <td>0.986</td>\n",
              "      <td>0.939</td>\n",
              "      <td>0.965</td>\n",
              "      <td>0.979</td>\n",
              "      <td>215.669</td>\n",
              "      <td>602297</td>\n",
              "      <td>5</td>\n",
              "    </tr>\n",
              "    <tr>\n",
              "      <th>Trap Metal</th>\n",
              "      <td>0.985</td>\n",
              "      <td>0.999</td>\n",
              "      <td>11</td>\n",
              "      <td>3.148</td>\n",
              "      <td>1</td>\n",
              "      <td>0.908</td>\n",
              "      <td>0.986</td>\n",
              "      <td>0.963</td>\n",
              "      <td>0.962</td>\n",
              "      <td>0.976</td>\n",
              "      <td>214.034</td>\n",
              "      <td>474157</td>\n",
              "      <td>5</td>\n",
              "    </tr>\n",
              "    <tr>\n",
              "      <th>Underground Rap</th>\n",
              "      <td>0.985</td>\n",
              "      <td>0.997</td>\n",
              "      <td>11</td>\n",
              "      <td>2.499</td>\n",
              "      <td>1</td>\n",
              "      <td>0.914</td>\n",
              "      <td>0.947</td>\n",
              "      <td>0.964</td>\n",
              "      <td>0.962</td>\n",
              "      <td>0.980</td>\n",
              "      <td>207.982</td>\n",
              "      <td>636213</td>\n",
              "      <td>5</td>\n",
              "    </tr>\n",
              "    <tr>\n",
              "      <th>dnb</th>\n",
              "      <td>0.855</td>\n",
              "      <td>0.999</td>\n",
              "      <td>11</td>\n",
              "      <td>3.108</td>\n",
              "      <td>1</td>\n",
              "      <td>0.906</td>\n",
              "      <td>0.783</td>\n",
              "      <td>0.968</td>\n",
              "      <td>0.981</td>\n",
              "      <td>0.970</td>\n",
              "      <td>177.100</td>\n",
              "      <td>514629</td>\n",
              "      <td>5</td>\n",
              "    </tr>\n",
              "    <tr>\n",
              "      <th>hardstyle</th>\n",
              "      <td>0.774</td>\n",
              "      <td>0.999</td>\n",
              "      <td>11</td>\n",
              "      <td>0.101</td>\n",
              "      <td>1</td>\n",
              "      <td>0.774</td>\n",
              "      <td>0.562</td>\n",
              "      <td>0.983</td>\n",
              "      <td>0.976</td>\n",
              "      <td>0.935</td>\n",
              "      <td>157.687</td>\n",
              "      <td>566495</td>\n",
              "      <td>5</td>\n",
              "    </tr>\n",
              "    <tr>\n",
              "      <th>psytrance</th>\n",
              "      <td>0.925</td>\n",
              "      <td>0.999</td>\n",
              "      <td>11</td>\n",
              "      <td>-1.464</td>\n",
              "      <td>1</td>\n",
              "      <td>0.473</td>\n",
              "      <td>0.321</td>\n",
              "      <td>0.964</td>\n",
              "      <td>0.988</td>\n",
              "      <td>0.917</td>\n",
              "      <td>157.033</td>\n",
              "      <td>913052</td>\n",
              "      <td>5</td>\n",
              "    </tr>\n",
              "    <tr>\n",
              "      <th>techhouse</th>\n",
              "      <td>0.988</td>\n",
              "      <td>0.999</td>\n",
              "      <td>11</td>\n",
              "      <td>-1.318</td>\n",
              "      <td>1</td>\n",
              "      <td>0.469</td>\n",
              "      <td>0.563</td>\n",
              "      <td>0.967</td>\n",
              "      <td>0.923</td>\n",
              "      <td>0.988</td>\n",
              "      <td>130.044</td>\n",
              "      <td>596191</td>\n",
              "      <td>5</td>\n",
              "    </tr>\n",
              "    <tr>\n",
              "      <th>techno</th>\n",
              "      <td>0.978</td>\n",
              "      <td>1.000</td>\n",
              "      <td>11</td>\n",
              "      <td>-1.927</td>\n",
              "      <td>1</td>\n",
              "      <td>0.422</td>\n",
              "      <td>0.911</td>\n",
              "      <td>0.972</td>\n",
              "      <td>0.966</td>\n",
              "      <td>0.950</td>\n",
              "      <td>142.031</td>\n",
              "      <td>894386</td>\n",
              "      <td>5</td>\n",
              "    </tr>\n",
              "    <tr>\n",
              "      <th>trance</th>\n",
              "      <td>0.887</td>\n",
              "      <td>1.000</td>\n",
              "      <td>11</td>\n",
              "      <td>-1.093</td>\n",
              "      <td>1</td>\n",
              "      <td>0.785</td>\n",
              "      <td>0.939</td>\n",
              "      <td>0.985</td>\n",
              "      <td>0.975</td>\n",
              "      <td>0.934</td>\n",
              "      <td>146.009</td>\n",
              "      <td>705131</td>\n",
              "      <td>5</td>\n",
              "    </tr>\n",
              "    <tr>\n",
              "      <th>trap</th>\n",
              "      <td>0.935</td>\n",
              "      <td>1.000</td>\n",
              "      <td>11</td>\n",
              "      <td>1.851</td>\n",
              "      <td>1</td>\n",
              "      <td>0.863</td>\n",
              "      <td>0.985</td>\n",
              "      <td>0.970</td>\n",
              "      <td>0.975</td>\n",
              "      <td>0.970</td>\n",
              "      <td>162.148</td>\n",
              "      <td>392683</td>\n",
              "      <td>5</td>\n",
              "    </tr>\n",
              "  </tbody>\n",
              "</table>\n",
              "</div>"
            ],
            "text/plain": [
              "                 danceability  energy  ...  duration_ms  time_signature\n",
              "genre                                  ...                             \n",
              "Dark Trap               0.985   0.998  ...       534857               5\n",
              "Emo                     0.926   0.995  ...       548253               5\n",
              "Hiphop                  0.988   0.978  ...       723573               5\n",
              "Pop                     0.935   0.977  ...       484147               5\n",
              "Rap                     0.981   0.980  ...       728413               5\n",
              "RnB                     0.978   0.974  ...       602297               5\n",
              "Trap Metal              0.985   0.999  ...       474157               5\n",
              "Underground Rap         0.985   0.997  ...       636213               5\n",
              "dnb                     0.855   0.999  ...       514629               5\n",
              "hardstyle               0.774   0.999  ...       566495               5\n",
              "psytrance               0.925   0.999  ...       913052               5\n",
              "techhouse               0.988   0.999  ...       596191               5\n",
              "techno                  0.978   1.000  ...       894386               5\n",
              "trance                  0.887   1.000  ...       705131               5\n",
              "trap                    0.935   1.000  ...       392683               5\n",
              "\n",
              "[15 rows x 13 columns]"
            ]
          },
          "metadata": {
            "tags": []
          },
          "execution_count": 44
        }
      ]
    },
    {
      "cell_type": "code",
      "metadata": {
        "id": "_SN6cArhr2d_",
        "colab": {
          "base_uri": "https://localhost:8080/",
          "height": 582
        },
        "outputId": "af41f964-554b-4c89-f957-359b9e27650d"
      },
      "source": [
        "grouped_genre.std()"
      ],
      "execution_count": 45,
      "outputs": [
        {
          "output_type": "execute_result",
          "data": {
            "text/html": [
              "<div>\n",
              "<style scoped>\n",
              "    .dataframe tbody tr th:only-of-type {\n",
              "        vertical-align: middle;\n",
              "    }\n",
              "\n",
              "    .dataframe tbody tr th {\n",
              "        vertical-align: top;\n",
              "    }\n",
              "\n",
              "    .dataframe thead th {\n",
              "        text-align: right;\n",
              "    }\n",
              "</style>\n",
              "<table border=\"1\" class=\"dataframe\">\n",
              "  <thead>\n",
              "    <tr style=\"text-align: right;\">\n",
              "      <th></th>\n",
              "      <th>danceability</th>\n",
              "      <th>energy</th>\n",
              "      <th>key</th>\n",
              "      <th>loudness</th>\n",
              "      <th>mode</th>\n",
              "      <th>speechiness</th>\n",
              "      <th>acousticness</th>\n",
              "      <th>instrumentalness</th>\n",
              "      <th>liveness</th>\n",
              "      <th>valence</th>\n",
              "      <th>tempo</th>\n",
              "      <th>duration_ms</th>\n",
              "      <th>time_signature</th>\n",
              "    </tr>\n",
              "    <tr>\n",
              "      <th>genre</th>\n",
              "      <th></th>\n",
              "      <th></th>\n",
              "      <th></th>\n",
              "      <th></th>\n",
              "      <th></th>\n",
              "      <th></th>\n",
              "      <th></th>\n",
              "      <th></th>\n",
              "      <th></th>\n",
              "      <th></th>\n",
              "      <th></th>\n",
              "      <th></th>\n",
              "      <th></th>\n",
              "    </tr>\n",
              "  </thead>\n",
              "  <tbody>\n",
              "    <tr>\n",
              "      <th>Dark Trap</th>\n",
              "      <td>0.161002</td>\n",
              "      <td>0.180810</td>\n",
              "      <td>3.638048</td>\n",
              "      <td>3.156933</td>\n",
              "      <td>0.498722</td>\n",
              "      <td>0.123217</td>\n",
              "      <td>0.214746</td>\n",
              "      <td>0.366365</td>\n",
              "      <td>0.144774</td>\n",
              "      <td>0.206191</td>\n",
              "      <td>27.201544</td>\n",
              "      <td>60377.140798</td>\n",
              "      <td>0.368688</td>\n",
              "    </tr>\n",
              "    <tr>\n",
              "      <th>Emo</th>\n",
              "      <td>0.126014</td>\n",
              "      <td>0.220404</td>\n",
              "      <td>3.477168</td>\n",
              "      <td>2.598227</td>\n",
              "      <td>0.464369</td>\n",
              "      <td>0.075109</td>\n",
              "      <td>0.260326</td>\n",
              "      <td>0.077927</td>\n",
              "      <td>0.145681</td>\n",
              "      <td>0.202451</td>\n",
              "      <td>27.545931</td>\n",
              "      <td>43426.023963</td>\n",
              "      <td>0.318840</td>\n",
              "    </tr>\n",
              "    <tr>\n",
              "      <th>Hiphop</th>\n",
              "      <td>0.142183</td>\n",
              "      <td>0.162416</td>\n",
              "      <td>3.679533</td>\n",
              "      <td>2.827193</td>\n",
              "      <td>0.499312</td>\n",
              "      <td>0.131501</td>\n",
              "      <td>0.219940</td>\n",
              "      <td>0.093075</td>\n",
              "      <td>0.162457</td>\n",
              "      <td>0.222957</td>\n",
              "      <td>28.188804</td>\n",
              "      <td>60884.353006</td>\n",
              "      <td>0.329274</td>\n",
              "    </tr>\n",
              "    <tr>\n",
              "      <th>Pop</th>\n",
              "      <td>0.119175</td>\n",
              "      <td>0.155379</td>\n",
              "      <td>3.644698</td>\n",
              "      <td>1.947846</td>\n",
              "      <td>0.498153</td>\n",
              "      <td>0.081074</td>\n",
              "      <td>0.198390</td>\n",
              "      <td>0.085986</td>\n",
              "      <td>0.140379</td>\n",
              "      <td>0.215627</td>\n",
              "      <td>32.360009</td>\n",
              "      <td>35368.133282</td>\n",
              "      <td>0.250624</td>\n",
              "    </tr>\n",
              "    <tr>\n",
              "      <th>Rap</th>\n",
              "      <td>0.127670</td>\n",
              "      <td>0.137444</td>\n",
              "      <td>3.705862</td>\n",
              "      <td>2.353116</td>\n",
              "      <td>0.499643</td>\n",
              "      <td>0.134830</td>\n",
              "      <td>0.178520</td>\n",
              "      <td>0.058052</td>\n",
              "      <td>0.132247</td>\n",
              "      <td>0.215302</td>\n",
              "      <td>29.106285</td>\n",
              "      <td>59281.310692</td>\n",
              "      <td>0.284631</td>\n",
              "    </tr>\n",
              "    <tr>\n",
              "      <th>RnB</th>\n",
              "      <td>0.140207</td>\n",
              "      <td>0.164788</td>\n",
              "      <td>3.638515</td>\n",
              "      <td>2.518220</td>\n",
              "      <td>0.499084</td>\n",
              "      <td>0.112993</td>\n",
              "      <td>0.231904</td>\n",
              "      <td>0.060419</td>\n",
              "      <td>0.133160</td>\n",
              "      <td>0.221235</td>\n",
              "      <td>29.820987</td>\n",
              "      <td>50866.054759</td>\n",
              "      <td>0.361912</td>\n",
              "    </tr>\n",
              "    <tr>\n",
              "      <th>Trap Metal</th>\n",
              "      <td>0.169564</td>\n",
              "      <td>0.174147</td>\n",
              "      <td>3.748826</td>\n",
              "      <td>3.038965</td>\n",
              "      <td>0.450189</td>\n",
              "      <td>0.159220</td>\n",
              "      <td>0.166583</td>\n",
              "      <td>0.177845</td>\n",
              "      <td>0.186634</td>\n",
              "      <td>0.215788</td>\n",
              "      <td>26.672863</td>\n",
              "      <td>45075.031628</td>\n",
              "      <td>0.343568</td>\n",
              "    </tr>\n",
              "    <tr>\n",
              "      <th>Underground Rap</th>\n",
              "      <td>0.128180</td>\n",
              "      <td>0.155994</td>\n",
              "      <td>3.777848</td>\n",
              "      <td>2.755624</td>\n",
              "      <td>0.486962</td>\n",
              "      <td>0.144794</td>\n",
              "      <td>0.186051</td>\n",
              "      <td>0.116380</td>\n",
              "      <td>0.148016</td>\n",
              "      <td>0.224521</td>\n",
              "      <td>26.671957</td>\n",
              "      <td>54752.469716</td>\n",
              "      <td>0.283957</td>\n",
              "    </tr>\n",
              "    <tr>\n",
              "      <th>dnb</th>\n",
              "      <td>0.106605</td>\n",
              "      <td>0.097925</td>\n",
              "      <td>3.589637</td>\n",
              "      <td>1.946063</td>\n",
              "      <td>0.497165</td>\n",
              "      <td>0.076611</td>\n",
              "      <td>0.051514</td>\n",
              "      <td>0.359274</td>\n",
              "      <td>0.167220</td>\n",
              "      <td>0.185296</td>\n",
              "      <td>1.141970</td>\n",
              "      <td>51728.231272</td>\n",
              "      <td>0.066194</td>\n",
              "    </tr>\n",
              "    <tr>\n",
              "      <th>hardstyle</th>\n",
              "      <td>0.099230</td>\n",
              "      <td>0.082729</td>\n",
              "      <td>3.534666</td>\n",
              "      <td>1.589293</td>\n",
              "      <td>0.480284</td>\n",
              "      <td>0.090424</td>\n",
              "      <td>0.070447</td>\n",
              "      <td>0.253083</td>\n",
              "      <td>0.189537</td>\n",
              "      <td>0.157019</td>\n",
              "      <td>1.917755</td>\n",
              "      <td>58437.289366</td>\n",
              "      <td>0.232932</td>\n",
              "    </tr>\n",
              "    <tr>\n",
              "      <th>psytrance</th>\n",
              "      <td>0.086189</td>\n",
              "      <td>0.093983</td>\n",
              "      <td>3.502445</td>\n",
              "      <td>1.585368</td>\n",
              "      <td>0.490295</td>\n",
              "      <td>0.027955</td>\n",
              "      <td>0.023667</td>\n",
              "      <td>0.140714</td>\n",
              "      <td>0.234006</td>\n",
              "      <td>0.181496</td>\n",
              "      <td>4.450475</td>\n",
              "      <td>68718.084176</td>\n",
              "      <td>0.197630</td>\n",
              "    </tr>\n",
              "    <tr>\n",
              "      <th>techhouse</th>\n",
              "      <td>0.073436</td>\n",
              "      <td>0.131920</td>\n",
              "      <td>3.782393</td>\n",
              "      <td>1.899141</td>\n",
              "      <td>0.495520</td>\n",
              "      <td>0.041437</td>\n",
              "      <td>0.040741</td>\n",
              "      <td>0.326697</td>\n",
              "      <td>0.142550</td>\n",
              "      <td>0.233905</td>\n",
              "      <td>1.655647</td>\n",
              "      <td>91206.405796</td>\n",
              "      <td>0.112837</td>\n",
              "    </tr>\n",
              "    <tr>\n",
              "      <th>techno</th>\n",
              "      <td>0.088053</td>\n",
              "      <td>0.141080</td>\n",
              "      <td>3.570704</td>\n",
              "      <td>2.383438</td>\n",
              "      <td>0.493223</td>\n",
              "      <td>0.036655</td>\n",
              "      <td>0.097297</td>\n",
              "      <td>0.133038</td>\n",
              "      <td>0.128944</td>\n",
              "      <td>0.169857</td>\n",
              "      <td>3.852044</td>\n",
              "      <td>69792.810230</td>\n",
              "      <td>0.309653</td>\n",
              "    </tr>\n",
              "    <tr>\n",
              "      <th>trance</th>\n",
              "      <td>0.102201</td>\n",
              "      <td>0.107369</td>\n",
              "      <td>3.486528</td>\n",
              "      <td>2.210131</td>\n",
              "      <td>0.496802</td>\n",
              "      <td>0.052799</td>\n",
              "      <td>0.047673</td>\n",
              "      <td>0.372017</td>\n",
              "      <td>0.209879</td>\n",
              "      <td>0.153906</td>\n",
              "      <td>4.437328</td>\n",
              "      <td>103359.717162</td>\n",
              "      <td>0.120334</td>\n",
              "    </tr>\n",
              "    <tr>\n",
              "      <th>trap</th>\n",
              "      <td>0.128669</td>\n",
              "      <td>0.098066</td>\n",
              "      <td>3.801735</td>\n",
              "      <td>1.946665</td>\n",
              "      <td>0.489228</td>\n",
              "      <td>0.146998</td>\n",
              "      <td>0.060583</td>\n",
              "      <td>0.273228</td>\n",
              "      <td>0.201278</td>\n",
              "      <td>0.177189</td>\n",
              "      <td>4.760100</td>\n",
              "      <td>41354.219861</td>\n",
              "      <td>0.186236</td>\n",
              "    </tr>\n",
              "  </tbody>\n",
              "</table>\n",
              "</div>"
            ],
            "text/plain": [
              "                 danceability    energy  ...    duration_ms  time_signature\n",
              "genre                                    ...                               \n",
              "Dark Trap            0.161002  0.180810  ...   60377.140798        0.368688\n",
              "Emo                  0.126014  0.220404  ...   43426.023963        0.318840\n",
              "Hiphop               0.142183  0.162416  ...   60884.353006        0.329274\n",
              "Pop                  0.119175  0.155379  ...   35368.133282        0.250624\n",
              "Rap                  0.127670  0.137444  ...   59281.310692        0.284631\n",
              "RnB                  0.140207  0.164788  ...   50866.054759        0.361912\n",
              "Trap Metal           0.169564  0.174147  ...   45075.031628        0.343568\n",
              "Underground Rap      0.128180  0.155994  ...   54752.469716        0.283957\n",
              "dnb                  0.106605  0.097925  ...   51728.231272        0.066194\n",
              "hardstyle            0.099230  0.082729  ...   58437.289366        0.232932\n",
              "psytrance            0.086189  0.093983  ...   68718.084176        0.197630\n",
              "techhouse            0.073436  0.131920  ...   91206.405796        0.112837\n",
              "techno               0.088053  0.141080  ...   69792.810230        0.309653\n",
              "trance               0.102201  0.107369  ...  103359.717162        0.120334\n",
              "trap                 0.128669  0.098066  ...   41354.219861        0.186236\n",
              "\n",
              "[15 rows x 13 columns]"
            ]
          },
          "metadata": {
            "tags": []
          },
          "execution_count": 45
        }
      ]
    },
    {
      "cell_type": "markdown",
      "metadata": {
        "id": "4Rgt6EfHYUk9"
      },
      "source": [
        "Since we are going to predict the genre , let's check the \"genre\" column for data types"
      ]
    },
    {
      "cell_type": "code",
      "metadata": {
        "id": "4lENWrVKr4l5",
        "colab": {
          "base_uri": "https://localhost:8080/"
        },
        "outputId": "e1990e2b-9598-465d-f36c-3c434fd9d3f6"
      },
      "source": [
        "genre_count = {}\n",
        "for gen in np.unique(genre):\n",
        "    genre_count[gen] = len(data[data['genre'] == gen])\n",
        "genre_count"
      ],
      "execution_count": 46,
      "outputs": [
        {
          "output_type": "execute_result",
          "data": {
            "text/plain": [
              "{'Dark Trap': 4578,\n",
              " 'Emo': 1680,\n",
              " 'Hiphop': 3028,\n",
              " 'Pop': 461,\n",
              " 'Rap': 1848,\n",
              " 'RnB': 2099,\n",
              " 'Trap Metal': 1956,\n",
              " 'Underground Rap': 5875,\n",
              " 'dnb': 2966,\n",
              " 'hardstyle': 2936,\n",
              " 'psytrance': 2961,\n",
              " 'techhouse': 2975,\n",
              " 'techno': 2956,\n",
              " 'trance': 2999,\n",
              " 'trap': 2987}"
            ]
          },
          "metadata": {
            "tags": []
          },
          "execution_count": 46
        }
      ]
    },
    {
      "cell_type": "code",
      "metadata": {
        "id": "k3fHCFveYsMh",
        "colab": {
          "base_uri": "https://localhost:8080/"
        },
        "outputId": "f4cbcf5d-fb58-41f8-d27c-5ad0c195f93a"
      },
      "source": [
        "data.dtypes.value_counts()"
      ],
      "execution_count": 47,
      "outputs": [
        {
          "output_type": "execute_result",
          "data": {
            "text/plain": [
              "float64    9\n",
              "int64      4\n",
              "object     1\n",
              "dtype: int64"
            ]
          },
          "metadata": {
            "tags": []
          },
          "execution_count": 47
        }
      ]
    },
    {
      "cell_type": "code",
      "metadata": {
        "id": "TteJuZkaYfb1",
        "colab": {
          "base_uri": "https://localhost:8080/"
        },
        "outputId": "f9f071a5-c4ec-4d8e-b1db-87681cb9c05c"
      },
      "source": [
        "data.dtypes[data.dtypes=='object']"
      ],
      "execution_count": 48,
      "outputs": [
        {
          "output_type": "execute_result",
          "data": {
            "text/plain": [
              "genre    object\n",
              "dtype: object"
            ]
          },
          "metadata": {
            "tags": []
          },
          "execution_count": 48
        }
      ]
    },
    {
      "cell_type": "code",
      "metadata": {
        "id": "QTcc5LiQYyg3",
        "colab": {
          "base_uri": "https://localhost:8080/"
        },
        "outputId": "cbdb2a22-f815-4550-d6b1-469c7a3e799e"
      },
      "source": [
        "data.dtypes[data.dtypes=='float64']"
      ],
      "execution_count": 49,
      "outputs": [
        {
          "output_type": "execute_result",
          "data": {
            "text/plain": [
              "danceability        float64\n",
              "energy              float64\n",
              "loudness            float64\n",
              "speechiness         float64\n",
              "acousticness        float64\n",
              "instrumentalness    float64\n",
              "liveness            float64\n",
              "valence             float64\n",
              "tempo               float64\n",
              "dtype: object"
            ]
          },
          "metadata": {
            "tags": []
          },
          "execution_count": 49
        }
      ]
    },
    {
      "cell_type": "code",
      "metadata": {
        "id": "Q4tPBYJWY7_-",
        "colab": {
          "base_uri": "https://localhost:8080/"
        },
        "outputId": "4300f3be-5d12-4b9d-e48b-16df0d159e38"
      },
      "source": [
        "data.dtypes[data.dtypes=='int64']"
      ],
      "execution_count": 50,
      "outputs": [
        {
          "output_type": "execute_result",
          "data": {
            "text/plain": [
              "key               int64\n",
              "mode              int64\n",
              "duration_ms       int64\n",
              "time_signature    int64\n",
              "dtype: object"
            ]
          },
          "metadata": {
            "tags": []
          },
          "execution_count": 50
        }
      ]
    },
    {
      "cell_type": "code",
      "metadata": {
        "id": "Gz0HYQ9HZGZc",
        "colab": {
          "base_uri": "https://localhost:8080/",
          "height": 142
        },
        "outputId": "d757c49a-9692-4517-8027-b41f3766aaea"
      },
      "source": [
        "dtype_df = data.dtypes.reset_index()\n",
        "dtype_df.columns = [\"Count\", \"Column Type\"]\n",
        "dtype_df.groupby(\"Column Type\").aggregate('count').reset_index()"
      ],
      "execution_count": 51,
      "outputs": [
        {
          "output_type": "execute_result",
          "data": {
            "text/html": [
              "<div>\n",
              "<style scoped>\n",
              "    .dataframe tbody tr th:only-of-type {\n",
              "        vertical-align: middle;\n",
              "    }\n",
              "\n",
              "    .dataframe tbody tr th {\n",
              "        vertical-align: top;\n",
              "    }\n",
              "\n",
              "    .dataframe thead th {\n",
              "        text-align: right;\n",
              "    }\n",
              "</style>\n",
              "<table border=\"1\" class=\"dataframe\">\n",
              "  <thead>\n",
              "    <tr style=\"text-align: right;\">\n",
              "      <th></th>\n",
              "      <th>Column Type</th>\n",
              "      <th>Count</th>\n",
              "    </tr>\n",
              "  </thead>\n",
              "  <tbody>\n",
              "    <tr>\n",
              "      <th>0</th>\n",
              "      <td>int64</td>\n",
              "      <td>4</td>\n",
              "    </tr>\n",
              "    <tr>\n",
              "      <th>1</th>\n",
              "      <td>float64</td>\n",
              "      <td>9</td>\n",
              "    </tr>\n",
              "    <tr>\n",
              "      <th>2</th>\n",
              "      <td>object</td>\n",
              "      <td>1</td>\n",
              "    </tr>\n",
              "  </tbody>\n",
              "</table>\n",
              "</div>"
            ],
            "text/plain": [
              "  Column Type  Count\n",
              "0       int64      4\n",
              "1     float64      9\n",
              "2      object      1"
            ]
          },
          "metadata": {
            "tags": []
          },
          "execution_count": 51
        }
      ]
    },
    {
      "cell_type": "code",
      "metadata": {
        "id": "yReDKaD4Zfbp",
        "colab": {
          "base_uri": "https://localhost:8080/"
        },
        "outputId": "fd490473-0e3d-4900-c08f-d78422d5d38d"
      },
      "source": [
        "obj = data.dtypes[data.dtypes=='object'].index\n",
        "for i in obj:\n",
        "    print(i, data[i].unique())"
      ],
      "execution_count": 52,
      "outputs": [
        {
          "output_type": "stream",
          "text": [
            "genre ['Dark Trap' 'Underground Rap' 'Trap Metal' 'Emo' 'Rap' 'RnB' 'Pop'\n",
            " 'Hiphop' 'techhouse' 'techno' 'trance' 'psytrance' 'trap' 'dnb'\n",
            " 'hardstyle']\n"
          ],
          "name": "stdout"
        }
      ]
    },
    {
      "cell_type": "code",
      "metadata": {
        "id": "qamHgnQ6atsr",
        "colab": {
          "base_uri": "https://localhost:8080/"
        },
        "outputId": "9d038081-3610-4c9e-b3f3-37001707384d"
      },
      "source": [
        "data.isna().sum()[data.isna().sum()>0]"
      ],
      "execution_count": 53,
      "outputs": [
        {
          "output_type": "execute_result",
          "data": {
            "text/plain": [
              "Series([], dtype: int64)"
            ]
          },
          "metadata": {
            "tags": []
          },
          "execution_count": 53
        }
      ]
    },
    {
      "cell_type": "markdown",
      "metadata": {
        "id": "WDaO4pz-ThqC"
      },
      "source": [
        " Preprocessing"
      ]
    },
    {
      "cell_type": "code",
      "metadata": {
        "id": "84B6hrutr7lS",
        "colab": {
          "base_uri": "https://localhost:8080/"
        },
        "outputId": "cf08d1b9-68a5-48de-b0b6-8572188f1072"
      },
      "source": [
        "from sklearn.model_selection import train_test_split\n",
        "from sklearn.preprocessing import LabelEncoder,StandardScaler\n",
        "from imblearn.over_sampling import SMOTE\n",
        "\n",
        "data['genre'] = LabelEncoder().fit_transform(data['genre'])\n",
        "corr = data.corr()\n",
        "print(corr)"
      ],
      "execution_count": 54,
      "outputs": [
        {
          "output_type": "stream",
          "text": [
            "                  danceability    energy  ...  time_signature     genre\n",
            "danceability          1.000000 -0.323248  ...        0.057711 -0.052687\n",
            "energy               -0.323248  1.000000  ...        0.039781  0.471327\n",
            "key                  -0.012708  0.044731  ...        0.008061  0.027398\n",
            "loudness             -0.216776  0.601540  ...        0.047471  0.160771\n",
            "mode                  0.084413 -0.032203  ...       -0.009317 -0.019531\n",
            "speechiness           0.182177 -0.148363  ...        0.021637 -0.144596\n",
            "acousticness          0.069910 -0.497334  ...       -0.049791 -0.356286\n",
            "instrumentalness     -0.067114  0.303875  ...       -0.010164  0.414434\n",
            "liveness             -0.196702  0.231754  ...        0.003077  0.107690\n",
            "valence               0.369845 -0.013520  ...        0.040308 -0.170698\n",
            "tempo                -0.165929 -0.024504  ...       -0.019778 -0.231731\n",
            "duration_ms          -0.049807  0.294464  ...        0.003040  0.412508\n",
            "time_signature        0.057711  0.039781  ...        1.000000  0.019943\n",
            "genre                -0.052687  0.471327  ...        0.019943  1.000000\n",
            "\n",
            "[14 rows x 14 columns]\n"
          ],
          "name": "stdout"
        }
      ]
    },
    {
      "cell_type": "markdown",
      "metadata": {
        "id": "PnokiFZehcx2"
      },
      "source": [
        "Correlation Analysis"
      ]
    },
    {
      "cell_type": "code",
      "metadata": {
        "id": "VjMHEX8Kr-a5",
        "colab": {
          "base_uri": "https://localhost:8080/"
        },
        "outputId": "39b63387-c99f-4491-f3a0-9e14c59c9b0a"
      },
      "source": [
        "corr['genre']"
      ],
      "execution_count": 55,
      "outputs": [
        {
          "output_type": "execute_result",
          "data": {
            "text/plain": [
              "danceability       -0.052687\n",
              "energy              0.471327\n",
              "key                 0.027398\n",
              "loudness            0.160771\n",
              "mode               -0.019531\n",
              "speechiness        -0.144596\n",
              "acousticness       -0.356286\n",
              "instrumentalness    0.414434\n",
              "liveness            0.107690\n",
              "valence            -0.170698\n",
              "tempo              -0.231731\n",
              "duration_ms         0.412508\n",
              "time_signature      0.019943\n",
              "genre               1.000000\n",
              "Name: genre, dtype: float64"
            ]
          },
          "metadata": {
            "tags": []
          },
          "execution_count": 55
        }
      ]
    },
    {
      "cell_type": "code",
      "metadata": {
        "id": "fs8bdHwTsA37",
        "colab": {
          "base_uri": "https://localhost:8080/",
          "height": 672
        },
        "outputId": "0f750cee-0c9a-4bef-9cc3-0861b5ab80a9"
      },
      "source": [
        "corr_matrix=data.corr()\n",
        "fig,ax=plt.subplots(figsize=(15,10))\n",
        "ax=sns.heatmap(corr_matrix,\n",
        "              annot=True,\n",
        "              linewidths=0.5,\n",
        "              fmt=\".2f\",\n",
        "              cmap=\"YlGnBu\");"
      ],
      "execution_count": 56,
      "outputs": [
        {
          "output_type": "display_data",
          "data": {
            "image/png": "[encoded data removed]",
            "text/plain": [
              "<Figure size 1080x720 with 2 Axes>"
            ]
          },
          "metadata": {
            "tags": [],
            "needs_background": "light"
          }
        }
      ]
    },
    {
      "cell_type": "code",
      "metadata": {
        "id": "8x3Bz7KPV3hv",
        "colab": {
          "base_uri": "https://localhost:8080/",
          "height": 538
        },
        "outputId": "8e723357-16cf-40d5-b7d8-286c11c9650c"
      },
      "source": [
        "numeric = data._get_numeric_data()\n",
        "genre = data['genre']\n",
        "print(numeric.head())\n",
        "print(\"Numeric columns: \",end=\" \")\n",
        "print(numeric.columns)\n",
        "print(len(numeric.columns))\n",
        "\n",
        "\n",
        "numeric.describe()"
      ],
      "execution_count": 57,
      "outputs": [
        {
          "output_type": "stream",
          "text": [
            "   danceability  energy  key  ...  duration_ms  time_signature  genre\n",
            "0         0.831   0.814    2  ...       124539               4      0\n",
            "1         0.719   0.493    8  ...       224427               4      0\n",
            "2         0.850   0.893    5  ...        98821               4      0\n",
            "3         0.476   0.781    0  ...       123661               3      0\n",
            "4         0.798   0.624    2  ...       123298               4      0\n",
            "\n",
            "[5 rows x 14 columns]\n",
            "Numeric columns:  Index(['danceability', 'energy', 'key', 'loudness', 'mode', 'speechiness',\n",
            "       'acousticness', 'instrumentalness', 'liveness', 'valence', 'tempo',\n",
            "       'duration_ms', 'time_signature', 'genre'],\n",
            "      dtype='object')\n",
            "14\n"
          ],
          "name": "stdout"
        },
        {
          "output_type": "execute_result",
          "data": {
            "text/html": [
              "<div>\n",
              "<style scoped>\n",
              "    .dataframe tbody tr th:only-of-type {\n",
              "        vertical-align: middle;\n",
              "    }\n",
              "\n",
              "    .dataframe tbody tr th {\n",
              "        vertical-align: top;\n",
              "    }\n",
              "\n",
              "    .dataframe thead th {\n",
              "        text-align: right;\n",
              "    }\n",
              "</style>\n",
              "<table border=\"1\" class=\"dataframe\">\n",
              "  <thead>\n",
              "    <tr style=\"text-align: right;\">\n",
              "      <th></th>\n",
              "      <th>danceability</th>\n",
              "      <th>energy</th>\n",
              "      <th>key</th>\n",
              "      <th>loudness</th>\n",
              "      <th>mode</th>\n",
              "      <th>speechiness</th>\n",
              "      <th>acousticness</th>\n",
              "      <th>instrumentalness</th>\n",
              "      <th>liveness</th>\n",
              "      <th>valence</th>\n",
              "      <th>tempo</th>\n",
              "      <th>duration_ms</th>\n",
              "      <th>time_signature</th>\n",
              "      <th>genre</th>\n",
              "    </tr>\n",
              "  </thead>\n",
              "  <tbody>\n",
              "    <tr>\n",
              "      <th>count</th>\n",
              "      <td>42305.000000</td>\n",
              "      <td>42305.000000</td>\n",
              "      <td>42305.000000</td>\n",
              "      <td>42305.000000</td>\n",
              "      <td>42305.000000</td>\n",
              "      <td>42305.000000</td>\n",
              "      <td>42305.000000</td>\n",
              "      <td>42305.000000</td>\n",
              "      <td>42305.000000</td>\n",
              "      <td>42305.000000</td>\n",
              "      <td>42305.000000</td>\n",
              "      <td>42305.000000</td>\n",
              "      <td>42305.000000</td>\n",
              "      <td>42305.000000</td>\n",
              "    </tr>\n",
              "    <tr>\n",
              "      <th>mean</th>\n",
              "      <td>0.639364</td>\n",
              "      <td>0.762516</td>\n",
              "      <td>5.370240</td>\n",
              "      <td>-6.465442</td>\n",
              "      <td>0.549462</td>\n",
              "      <td>0.136561</td>\n",
              "      <td>0.096160</td>\n",
              "      <td>0.283048</td>\n",
              "      <td>0.214079</td>\n",
              "      <td>0.357101</td>\n",
              "      <td>147.474056</td>\n",
              "      <td>250865.846685</td>\n",
              "      <td>3.972580</td>\n",
              "      <td>7.295379</td>\n",
              "    </tr>\n",
              "    <tr>\n",
              "      <th>std</th>\n",
              "      <td>0.156617</td>\n",
              "      <td>0.183823</td>\n",
              "      <td>3.666145</td>\n",
              "      <td>2.941165</td>\n",
              "      <td>0.497553</td>\n",
              "      <td>0.126168</td>\n",
              "      <td>0.170827</td>\n",
              "      <td>0.370791</td>\n",
              "      <td>0.175576</td>\n",
              "      <td>0.233200</td>\n",
              "      <td>23.844623</td>\n",
              "      <td>102957.713571</td>\n",
              "      <td>0.268342</td>\n",
              "      <td>4.371303</td>\n",
              "    </tr>\n",
              "    <tr>\n",
              "      <th>min</th>\n",
              "      <td>0.065100</td>\n",
              "      <td>0.000243</td>\n",
              "      <td>0.000000</td>\n",
              "      <td>-33.357000</td>\n",
              "      <td>0.000000</td>\n",
              "      <td>0.022700</td>\n",
              "      <td>0.000001</td>\n",
              "      <td>0.000000</td>\n",
              "      <td>0.010700</td>\n",
              "      <td>0.018700</td>\n",
              "      <td>57.967000</td>\n",
              "      <td>25600.000000</td>\n",
              "      <td>1.000000</td>\n",
              "      <td>0.000000</td>\n",
              "    </tr>\n",
              "    <tr>\n",
              "      <th>25%</th>\n",
              "      <td>0.524000</td>\n",
              "      <td>0.632000</td>\n",
              "      <td>1.000000</td>\n",
              "      <td>-8.161000</td>\n",
              "      <td>0.000000</td>\n",
              "      <td>0.049100</td>\n",
              "      <td>0.001730</td>\n",
              "      <td>0.000000</td>\n",
              "      <td>0.099600</td>\n",
              "      <td>0.161000</td>\n",
              "      <td>129.931000</td>\n",
              "      <td>179840.000000</td>\n",
              "      <td>4.000000</td>\n",
              "      <td>4.000000</td>\n",
              "    </tr>\n",
              "    <tr>\n",
              "      <th>50%</th>\n",
              "      <td>0.646000</td>\n",
              "      <td>0.803000</td>\n",
              "      <td>6.000000</td>\n",
              "      <td>-6.234000</td>\n",
              "      <td>1.000000</td>\n",
              "      <td>0.075500</td>\n",
              "      <td>0.016400</td>\n",
              "      <td>0.005940</td>\n",
              "      <td>0.135000</td>\n",
              "      <td>0.322000</td>\n",
              "      <td>144.973000</td>\n",
              "      <td>224760.000000</td>\n",
              "      <td>4.000000</td>\n",
              "      <td>7.000000</td>\n",
              "    </tr>\n",
              "    <tr>\n",
              "      <th>75%</th>\n",
              "      <td>0.766000</td>\n",
              "      <td>0.923000</td>\n",
              "      <td>9.000000</td>\n",
              "      <td>-4.513000</td>\n",
              "      <td>1.000000</td>\n",
              "      <td>0.193000</td>\n",
              "      <td>0.107000</td>\n",
              "      <td>0.722000</td>\n",
              "      <td>0.294000</td>\n",
              "      <td>0.522000</td>\n",
              "      <td>161.464000</td>\n",
              "      <td>301133.000000</td>\n",
              "      <td>4.000000</td>\n",
              "      <td>11.000000</td>\n",
              "    </tr>\n",
              "    <tr>\n",
              "      <th>max</th>\n",
              "      <td>0.988000</td>\n",
              "      <td>1.000000</td>\n",
              "      <td>11.000000</td>\n",
              "      <td>3.148000</td>\n",
              "      <td>1.000000</td>\n",
              "      <td>0.946000</td>\n",
              "      <td>0.988000</td>\n",
              "      <td>0.989000</td>\n",
              "      <td>0.988000</td>\n",
              "      <td>0.988000</td>\n",
              "      <td>220.290000</td>\n",
              "      <td>913052.000000</td>\n",
              "      <td>5.000000</td>\n",
              "      <td>14.000000</td>\n",
              "    </tr>\n",
              "  </tbody>\n",
              "</table>\n",
              "</div>"
            ],
            "text/plain": [
              "       danceability        energy  ...  time_signature         genre\n",
              "count  42305.000000  42305.000000  ...    42305.000000  42305.000000\n",
              "mean       0.639364      0.762516  ...        3.972580      7.295379\n",
              "std        0.156617      0.183823  ...        0.268342      4.371303\n",
              "min        0.065100      0.000243  ...        1.000000      0.000000\n",
              "25%        0.524000      0.632000  ...        4.000000      4.000000\n",
              "50%        0.646000      0.803000  ...        4.000000      7.000000\n",
              "75%        0.766000      0.923000  ...        4.000000     11.000000\n",
              "max        0.988000      1.000000  ...        5.000000     14.000000\n",
              "\n",
              "[8 rows x 14 columns]"
            ]
          },
          "metadata": {
            "tags": []
          },
          "execution_count": 57
        }
      ]
    },
    {
      "cell_type": "markdown",
      "metadata": {
        "id": "LzJBrZpHaE0t"
      },
      "source": [
        "Visualization"
      ]
    },
    {
      "cell_type": "code",
      "metadata": {
        "id": "00bx4_pFTzR0",
        "colab": {
          "base_uri": "https://localhost:8080/",
          "height": 600
        },
        "outputId": "f2347738-d42c-43ca-d010-cd6eba423adf"
      },
      "source": [
        "num_hist = numeric.hist(layout=(3,5),figsize=(20,10))\n",
        "plt.show()"
      ],
      "execution_count": 58,
      "outputs": [
        {
          "output_type": "display_data",
          "data": {
            "image/png": "[encoded data removed]",
            "text/plain": [
              "<Figure size 1440x720 with 15 Axes>"
            ]
          },
          "metadata": {
            "tags": [],
            "needs_background": "light"
          }
        }
      ]
    },
    {
      "cell_type": "markdown",
      "metadata": {
        "id": "vHm64_-HXGsI"
      },
      "source": [
        "Features of each genre"
      ]
    },
    {
      "cell_type": "code",
      "metadata": {
        "id": "CFGXdBfFaviN",
        "colab": {
          "base_uri": "https://localhost:8080/",
          "height": 281
        },
        "outputId": "4b547a00-edf9-4aeb-b525-b53821f31770"
      },
      "source": [
        "data[\"genre\"].value_counts().plot(kind=\"barh\",color=[\"lightblue\"],title=\"Genres\");"
      ],
      "execution_count": 59,
      "outputs": [
        {
          "output_type": "display_data",
          "data": {
            "image/png": "[encoded data removed]",
            "text/plain": [
              "<Figure size 432x288 with 1 Axes>"
            ]
          },
          "metadata": {
            "tags": [],
            "needs_background": "light"
          }
        }
      ]
    },
    {
      "cell_type": "code",
      "metadata": {
        "id": "GwQdLx5ZX_n_",
        "colab": {
          "base_uri": "https://localhost:8080/",
          "height": 537
        },
        "outputId": "3de598ce-2dd4-4aa9-f7d2-1cfce9cf0b91"
      },
      "source": [
        "ax = sns.boxplot(data=data,y='duration_ms',x='genre',width= 0.6, fliersize=3,whis=1)\n",
        "ax.set_xticklabels(ax.get_xticklabels(),rotation=90)"
      ],
      "execution_count": 60,
      "outputs": [
        {
          "output_type": "execute_result",
          "data": {
            "text/plain": [
              "[Text(0, 0, '0'),\n",
              " Text(0, 0, '1'),\n",
              " Text(0, 0, '2'),\n",
              " Text(0, 0, '3'),\n",
              " Text(0, 0, '4'),\n",
              " Text(0, 0, '5'),\n",
              " Text(0, 0, '6'),\n",
              " Text(0, 0, '7'),\n",
              " Text(0, 0, '8'),\n",
              " Text(0, 0, '9'),\n",
              " Text(0, 0, '10'),\n",
              " Text(0, 0, '11'),\n",
              " Text(0, 0, '12'),\n",
              " Text(0, 0, '13'),\n",
              " Text(0, 0, '14')]"
            ]
          },
          "metadata": {
            "tags": []
          },
          "execution_count": 60
        },
        {
          "output_type": "display_data",
          "data": {
            "image/png": "[encoded data removed]",
            "text/plain": [
              "<Figure size 432x288 with 1 Axes>"
            ]
          },
          "metadata": {
            "tags": [],
            "needs_background": "light"
          }
        }
      ]
    },
    {
      "cell_type": "code",
      "metadata": {
        "id": "pzy3DC24SvuT",
        "colab": {
          "base_uri": "https://localhost:8080/",
          "height": 1000
        },
        "outputId": "3ccd66bf-07ea-4533-cc2f-5f3cc632132d"
      },
      "source": [
        "grouped_genre = data.groupby('genre')\n",
        "\n",
        "for col in numeric.columns:\n",
        "    fig,ax = plt.subplots()\n",
        "    \n",
        "    for i, d in grouped_genre:\n",
        "        d[col].hist(alpha=0.4, ax=ax, label=i,figsize=(10,4))\n",
        "        ax.set_title(col)\n",
        "\n",
        "    ax.legend()\n",
        "    plt.show()"
      ],
      "execution_count": 61,
      "outputs": [
        {
          "output_type": "display_data",
          "data": {
            "image/png": "[encoded data removed]",
            "text/plain": [
              "<Figure size 720x288 with 1 Axes>"
            ]
          },
          "metadata": {
            "tags": [],
            "needs_background": "light"
          }
        },
        {
          "output_type": "display_data",
          "data": {
            "image/png": "[encoded data removed]",
            "text/plain": [
              "<Figure size 720x288 with 1 Axes>"
            ]
          },
          "metadata": {
            "tags": [],
            "needs_background": "light"
          }
        },
        {
          "output_type": "display_data",
          "data": {
            "image/png": "[encoded data removed]",
            "text/plain": [
              "<Figure size 720x288 with 1 Axes>"
            ]
          },
          "metadata": {
            "tags": [],
            "needs_background": "light"
          }
        },
        {
          "output_type": "display_data",
          "data": {
            "image/png": "[encoded data removed]",
            "text/plain": [
              "<Figure size 720x288 with 1 Axes>"
            ]
          },
          "metadata": {
            "tags": [],
            "needs_background": "light"
          }
        },
        {
          "output_type": "display_data",
          "data": {
            "image/png": "[encoded data removed]",
            "text/plain": [
              "<Figure size 720x288 with 1 Axes>"
            ]
          },
          "metadata": {
            "tags": [],
            "needs_background": "light"
          }
        },
        {
          "output_type": "display_data",
          "data": {
            "image/png": "[encoded data removed]",
            "text/plain": [
              "<Figure size 720x288 with 1 Axes>"
            ]
          },
          "metadata": {
            "tags": [],
            "needs_background": "light"
          }
        },
        {
          "output_type": "display_data",
          "data": {
            "image/png": "[encoded data removed]",
            "text/plain": [
              "<Figure size 720x288 with 1 Axes>"
            ]
          },
          "metadata": {
            "tags": [],
            "needs_background": "light"
          }
        },
        {
          "output_type": "display_data",
          "data": {
            "image/png": "[encoded data removed]",
            "text/plain": [
              "<Figure size 720x288 with 1 Axes>"
            ]
          },
          "metadata": {
            "tags": [],
            "needs_background": "light"
          }
        },
        {
          "output_type": "display_data",
          "data": {
            "image/png": "[encoded data removed]",
            "text/plain": [
              "<Figure size 720x288 with 1 Axes>"
            ]
          },
          "metadata": {
            "tags": [],
            "needs_background": "light"
          }
        },
        {
          "output_type": "display_data",
          "data": {
            "image/png": "[encoded data removed]",
            "text/plain": [
              "<Figure size 720x288 with 1 Axes>"
            ]
          },
          "metadata": {
            "tags": [],
            "needs_background": "light"
          }
        },
        {
          "output_type": "display_data",
          "data": {
            "image/png": "[encoded data removed]",
            "text/plain": [
              "<Figure size 720x288 with 1 Axes>"
            ]
          },
          "metadata": {
            "tags": [],
            "needs_background": "light"
          }
        },
        {
          "output_type": "display_data",
          "data": {
            "image/png": "[encoded data removed]",
            "text/plain": [
              "<Figure size 720x288 with 1 Axes>"
            ]
          },
          "metadata": {
            "tags": [],
            "needs_background": "light"
          }
        },
        {
          "output_type": "display_data",
          "data": {
            "image/png": "[encoded data removed]",
            "text/plain": [
              "<Figure size 720x288 with 1 Axes>"
            ]
          },
          "metadata": {
            "tags": [],
            "needs_background": "light"
          }
        },
        {
          "output_type": "display_data",
          "data": {
            "image/png": "[encoded data removed]",
            "text/plain": [
              "<Figure size 720x288 with 1 Axes>"
            ]
          },
          "metadata": {
            "tags": [],
            "needs_background": "light"
          }
        }
      ]
    },
    {
      "cell_type": "markdown",
      "metadata": {
        "id": "tX3nB3VaZurI"
      },
      "source": [
        "Select features"
      ]
    },
    {
      "cell_type": "code",
      "metadata": {
        "id": "WZd7d5-VsIqQ",
        "colab": {
          "base_uri": "https://localhost:8080/",
          "height": 419
        },
        "outputId": "acab6cf4-6227-47c8-81ec-5cf03faaf857"
      },
      "source": [
        "features = data.drop(['key','mode','time_signature','danceability','genre'],axis=1)\n",
        "features"
      ],
      "execution_count": 62,
      "outputs": [
        {
          "output_type": "execute_result",
          "data": {
            "text/html": [
              "<div>\n",
              "<style scoped>\n",
              "    .dataframe tbody tr th:only-of-type {\n",
              "        vertical-align: middle;\n",
              "    }\n",
              "\n",
              "    .dataframe tbody tr th {\n",
              "        vertical-align: top;\n",
              "    }\n",
              "\n",
              "    .dataframe thead th {\n",
              "        text-align: right;\n",
              "    }\n",
              "</style>\n",
              "<table border=\"1\" class=\"dataframe\">\n",
              "  <thead>\n",
              "    <tr style=\"text-align: right;\">\n",
              "      <th></th>\n",
              "      <th>energy</th>\n",
              "      <th>loudness</th>\n",
              "      <th>speechiness</th>\n",
              "      <th>acousticness</th>\n",
              "      <th>instrumentalness</th>\n",
              "      <th>liveness</th>\n",
              "      <th>valence</th>\n",
              "      <th>tempo</th>\n",
              "      <th>duration_ms</th>\n",
              "    </tr>\n",
              "  </thead>\n",
              "  <tbody>\n",
              "    <tr>\n",
              "      <th>0</th>\n",
              "      <td>0.814</td>\n",
              "      <td>-7.364</td>\n",
              "      <td>0.4200</td>\n",
              "      <td>0.059800</td>\n",
              "      <td>0.013400</td>\n",
              "      <td>0.0556</td>\n",
              "      <td>0.3890</td>\n",
              "      <td>156.985</td>\n",
              "      <td>124539</td>\n",
              "    </tr>\n",
              "    <tr>\n",
              "      <th>1</th>\n",
              "      <td>0.493</td>\n",
              "      <td>-7.230</td>\n",
              "      <td>0.0794</td>\n",
              "      <td>0.401000</td>\n",
              "      <td>0.000000</td>\n",
              "      <td>0.1180</td>\n",
              "      <td>0.1240</td>\n",
              "      <td>115.080</td>\n",
              "      <td>224427</td>\n",
              "    </tr>\n",
              "    <tr>\n",
              "      <th>2</th>\n",
              "      <td>0.893</td>\n",
              "      <td>-4.783</td>\n",
              "      <td>0.0623</td>\n",
              "      <td>0.013800</td>\n",
              "      <td>0.000004</td>\n",
              "      <td>0.3720</td>\n",
              "      <td>0.0391</td>\n",
              "      <td>218.050</td>\n",
              "      <td>98821</td>\n",
              "    </tr>\n",
              "    <tr>\n",
              "      <th>3</th>\n",
              "      <td>0.781</td>\n",
              "      <td>-4.710</td>\n",
              "      <td>0.1030</td>\n",
              "      <td>0.023700</td>\n",
              "      <td>0.000000</td>\n",
              "      <td>0.1140</td>\n",
              "      <td>0.1750</td>\n",
              "      <td>186.948</td>\n",
              "      <td>123661</td>\n",
              "    </tr>\n",
              "    <tr>\n",
              "      <th>4</th>\n",
              "      <td>0.624</td>\n",
              "      <td>-7.668</td>\n",
              "      <td>0.2930</td>\n",
              "      <td>0.217000</td>\n",
              "      <td>0.000000</td>\n",
              "      <td>0.1660</td>\n",
              "      <td>0.5910</td>\n",
              "      <td>147.988</td>\n",
              "      <td>123298</td>\n",
              "    </tr>\n",
              "    <tr>\n",
              "      <th>...</th>\n",
              "      <td>...</td>\n",
              "      <td>...</td>\n",
              "      <td>...</td>\n",
              "      <td>...</td>\n",
              "      <td>...</td>\n",
              "      <td>...</td>\n",
              "      <td>...</td>\n",
              "      <td>...</td>\n",
              "      <td>...</td>\n",
              "    </tr>\n",
              "    <tr>\n",
              "      <th>42300</th>\n",
              "      <td>0.693</td>\n",
              "      <td>-5.148</td>\n",
              "      <td>0.0304</td>\n",
              "      <td>0.031500</td>\n",
              "      <td>0.000345</td>\n",
              "      <td>0.1210</td>\n",
              "      <td>0.3940</td>\n",
              "      <td>150.013</td>\n",
              "      <td>269208</td>\n",
              "    </tr>\n",
              "    <tr>\n",
              "      <th>42301</th>\n",
              "      <td>0.768</td>\n",
              "      <td>-7.922</td>\n",
              "      <td>0.0479</td>\n",
              "      <td>0.022500</td>\n",
              "      <td>0.000018</td>\n",
              "      <td>0.2050</td>\n",
              "      <td>0.3830</td>\n",
              "      <td>149.928</td>\n",
              "      <td>210112</td>\n",
              "    </tr>\n",
              "    <tr>\n",
              "      <th>42302</th>\n",
              "      <td>0.821</td>\n",
              "      <td>-3.102</td>\n",
              "      <td>0.0505</td>\n",
              "      <td>0.026000</td>\n",
              "      <td>0.000242</td>\n",
              "      <td>0.3850</td>\n",
              "      <td>0.1240</td>\n",
              "      <td>154.935</td>\n",
              "      <td>234823</td>\n",
              "    </tr>\n",
              "    <tr>\n",
              "      <th>42303</th>\n",
              "      <td>0.921</td>\n",
              "      <td>-4.777</td>\n",
              "      <td>0.0392</td>\n",
              "      <td>0.000551</td>\n",
              "      <td>0.029600</td>\n",
              "      <td>0.0575</td>\n",
              "      <td>0.4880</td>\n",
              "      <td>150.042</td>\n",
              "      <td>323200</td>\n",
              "    </tr>\n",
              "    <tr>\n",
              "      <th>42304</th>\n",
              "      <td>0.945</td>\n",
              "      <td>-5.862</td>\n",
              "      <td>0.0615</td>\n",
              "      <td>0.001890</td>\n",
              "      <td>0.000055</td>\n",
              "      <td>0.4140</td>\n",
              "      <td>0.1340</td>\n",
              "      <td>155.047</td>\n",
              "      <td>162161</td>\n",
              "    </tr>\n",
              "  </tbody>\n",
              "</table>\n",
              "<p>42305 rows × 9 columns</p>\n",
              "</div>"
            ],
            "text/plain": [
              "       energy  loudness  speechiness  ...  valence    tempo  duration_ms\n",
              "0       0.814    -7.364       0.4200  ...   0.3890  156.985       124539\n",
              "1       0.493    -7.230       0.0794  ...   0.1240  115.080       224427\n",
              "2       0.893    -4.783       0.0623  ...   0.0391  218.050        98821\n",
              "3       0.781    -4.710       0.1030  ...   0.1750  186.948       123661\n",
              "4       0.624    -7.668       0.2930  ...   0.5910  147.988       123298\n",
              "...       ...       ...          ...  ...      ...      ...          ...\n",
              "42300   0.693    -5.148       0.0304  ...   0.3940  150.013       269208\n",
              "42301   0.768    -7.922       0.0479  ...   0.3830  149.928       210112\n",
              "42302   0.821    -3.102       0.0505  ...   0.1240  154.935       234823\n",
              "42303   0.921    -4.777       0.0392  ...   0.4880  150.042       323200\n",
              "42304   0.945    -5.862       0.0615  ...   0.1340  155.047       162161\n",
              "\n",
              "[42305 rows x 9 columns]"
            ]
          },
          "metadata": {
            "tags": []
          },
          "execution_count": 62
        }
      ]
    },
    {
      "cell_type": "code",
      "metadata": {
        "id": "cRFz19ANsLs8"
      },
      "source": [
        "labels = data['genre']\n",
        "features = StandardScaler().fit_transform(features)\n",
        "\n",
        "\n",
        "oversample = SMOTE()\n",
        "features, labels = oversample.fit_resample(features, labels)\n",
        "\n",
        "xtrain,xtest,ytrain,ytest = train_test_split(features,labels,test_size=0.2,shuffle=True)"
      ],
      "execution_count": 63,
      "outputs": []
    },
    {
      "cell_type": "code",
      "metadata": {
        "id": "CmtcWw0zsOlb",
        "colab": {
          "base_uri": "https://localhost:8080/"
        },
        "outputId": "f3e4add3-1cb2-428b-e246-a8c5c803d4bc"
      },
      "source": [
        "labels"
      ],
      "execution_count": 64,
      "outputs": [
        {
          "output_type": "execute_result",
          "data": {
            "text/plain": [
              "array([ 0,  0,  0, ..., 14, 14, 14])"
            ]
          },
          "metadata": {
            "tags": []
          },
          "execution_count": 64
        }
      ]
    },
    {
      "cell_type": "markdown",
      "metadata": {
        "id": "ANYlBjlogMp6"
      },
      "source": [
        "Modelling"
      ]
    },
    {
      "cell_type": "code",
      "metadata": {
        "id": "9ZODkJAPsmw_"
      },
      "source": [
        "from sklearn.model_selection import cross_val_score\n",
        "from sklearn.model_selection import RepeatedStratifiedKFold\n",
        "\n",
        "\n",
        "model = RandomForestClassifier()\n",
        "\n",
        "cv = RepeatedStratifiedKFold(n_splits=10, n_repeats=3, random_state=1)\n",
        "n_scores = cross_val_score(model, xtrain, ytrain, scoring='accuracy', cv=cv, n_jobs=-1, error_score='raise')"
      ],
      "execution_count": 65,
      "outputs": []
    },
    {
      "cell_type": "code",
      "metadata": {
        "id": "J4eCzNZOsqb8",
        "colab": {
          "base_uri": "https://localhost:8080/"
        },
        "outputId": "03a317af-bf18-4b08-9d0e-f582302ebc02"
      },
      "source": [
        "n_scores"
      ],
      "execution_count": 66,
      "outputs": [
        {
          "output_type": "execute_result",
          "data": {
            "text/plain": [
              "array([0.80028369, 0.79163121, 0.79390071, 0.80425532, 0.8012766 ,\n",
              "       0.79560284, 0.80780142, 0.7987234 , 0.79148936, 0.79673759,\n",
              "       0.79446809, 0.80099291, 0.80070922, 0.80113475, 0.79361702,\n",
              "       0.79716312, 0.79134752, 0.8022695 , 0.79687943, 0.80453901,\n",
              "       0.79730496, 0.79716312, 0.79248227, 0.80836879, 0.79957447,\n",
              "       0.79943262, 0.7951773 , 0.79049645, 0.80028369, 0.80595745])"
            ]
          },
          "metadata": {
            "tags": []
          },
          "execution_count": 66
        }
      ]
    },
    {
      "cell_type": "code",
      "metadata": {
        "id": "r9W7-MMBssoU",
        "colab": {
          "base_uri": "https://localhost:8080/"
        },
        "outputId": "47d2b0b7-573b-4ac8-f443-cda1f5a780ff"
      },
      "source": [
        "n_scores.mean()"
      ],
      "execution_count": 67,
      "outputs": [
        {
          "output_type": "execute_result",
          "data": {
            "text/plain": [
              "0.7983687943262411"
            ]
          },
          "metadata": {
            "tags": []
          },
          "execution_count": 67
        }
      ]
    },
    {
      "cell_type": "code",
      "metadata": {
        "id": "yhqlGgmesuzH",
        "colab": {
          "base_uri": "https://localhost:8080/"
        },
        "outputId": "4a54d572-d0f4-4f4a-fa30-f76f3e63bb25"
      },
      "source": [
        "\n",
        "model.fit(xtrain,ytrain)\n",
        "pred = model.predict(xtest)\n",
        "pred"
      ],
      "execution_count": 68,
      "outputs": [
        {
          "output_type": "execute_result",
          "data": {
            "text/plain": [
              "array([10,  8,  6, ...,  6, 13,  6])"
            ]
          },
          "metadata": {
            "tags": []
          },
          "execution_count": 68
        }
      ]
    },
    {
      "cell_type": "code",
      "metadata": {
        "id": "DuN0hCFzsw8Z",
        "colab": {
          "base_uri": "https://localhost:8080/"
        },
        "outputId": "32e8ac6f-0cea-4c2b-f0b0-00298c74f2c2"
      },
      "source": [
        "from sklearn.metrics import accuracy_score\n",
        "accuracy_score(ytest,pred)"
      ],
      "execution_count": 69,
      "outputs": [
        {
          "output_type": "execute_result",
          "data": {
            "text/plain": [
              "0.8031205673758866"
            ]
          },
          "metadata": {
            "tags": []
          },
          "execution_count": 69
        }
      ]
    },
    {
      "cell_type": "markdown",
      "metadata": {
        "id": "mAnXzI5kf-Vt"
      },
      "source": [
        "Hyperparameter tuning with RandomizedSearchCV for Random Forest models"
      ]
    },
    {
      "cell_type": "code",
      "metadata": {
        "id": "1bPhH6Nf9pd0",
        "colab": {
          "base_uri": "https://localhost:8080/"
        },
        "outputId": "bf078876-033e-4fec-f6ad-f650e772d840"
      },
      "source": [
        "\n",
        "rf_grid={\"n_estimators\": np.arange(10,1200,50),\n",
        "         \"max_depth\":[None,3,5,10,15],\n",
        "         \"min_samples_split\":np.arange(2,20,2),\n",
        "         \"min_samples_leaf\":np.arange(1,20,2),\n",
        "         'max_features': ['log2', 'sqrt'],\n",
        "         'bootstrap': [True, False]}\n",
        "np.random.seed(42)\n",
        "rs_rf=RandomizedSearchCV(RandomForestClassifier(),\n",
        "                        param_distributions=rf_grid,\n",
        "                        n_iter=20,\n",
        "                        verbose=True)\n",
        "rs_rf.fit(xtrain,ytrain)"
      ],
      "execution_count": 70,
      "outputs": [
        {
          "output_type": "stream",
          "text": [
            "Fitting 5 folds for each of 20 candidates, totalling 100 fits\n"
          ],
          "name": "stdout"
        },
        {
          "output_type": "stream",
          "text": [
            "[Parallel(n_jobs=1)]: Using backend SequentialBackend with 1 concurrent workers.\n",
            "[Parallel(n_jobs=1)]: Done 100 out of 100 | elapsed: 186.7min finished\n"
          ],
          "name": "stderr"
        },
        {
          "output_type": "execute_result",
          "data": {
            "text/plain": [
              "RandomizedSearchCV(cv=None, error_score=nan,\n",
              "                   estimator=RandomForestClassifier(bootstrap=True,\n",
              "                                                    ccp_alpha=0.0,\n",
              "                                                    class_weight=None,\n",
              "                                                    criterion='gini',\n",
              "                                                    max_depth=None,\n",
              "                                                    max_features='auto',\n",
              "                                                    max_leaf_nodes=None,\n",
              "                                                    max_samples=None,\n",
              "                                                    min_impurity_decrease=0.0,\n",
              "                                                    min_impurity_split=None,\n",
              "                                                    min_samples_leaf=1,\n",
              "                                                    min_samples_split=2,\n",
              "                                                    min_weight_fraction_leaf=0.0,\n",
              "                                                    n_estimators=100,\n",
              "                                                    n_j...\n",
              "                                        'max_features': ['log2', 'sqrt'],\n",
              "                                        'min_samples_leaf': array([ 1,  3,  5,  7,  9, 11, 13, 15, 17, 19]),\n",
              "                                        'min_samples_split': array([ 2,  4,  6,  8, 10, 12, 14, 16, 18]),\n",
              "                                        'n_estimators': array([  10,   60,  110,  160,  210,  260,  310,  360,  410,  460,  510,\n",
              "        560,  610,  660,  710,  760,  810,  860,  910,  960, 1010, 1060,\n",
              "       1110, 1160])},\n",
              "                   pre_dispatch='2*n_jobs', random_state=None, refit=True,\n",
              "                   return_train_score=False, scoring=None, verbose=True)"
            ]
          },
          "metadata": {
            "tags": []
          },
          "execution_count": 70
        }
      ]
    },
    {
      "cell_type": "code",
      "metadata": {
        "id": "n5asYfaaU3vI",
        "colab": {
          "base_uri": "https://localhost:8080/"
        },
        "outputId": "38ea1867-356b-4926-d1dd-85ea4879fba0"
      },
      "source": [
        "rs_rf.best_params_"
      ],
      "execution_count": 71,
      "outputs": [
        {
          "output_type": "execute_result",
          "data": {
            "text/plain": [
              "{'bootstrap': False,\n",
              " 'max_depth': None,\n",
              " 'max_features': 'log2',\n",
              " 'min_samples_leaf': 3,\n",
              " 'min_samples_split': 14,\n",
              " 'n_estimators': 110}"
            ]
          },
          "metadata": {
            "tags": []
          },
          "execution_count": 71
        }
      ]
    },
    {
      "cell_type": "code",
      "metadata": {
        "id": "ULl8sMVNU_6t",
        "colab": {
          "base_uri": "https://localhost:8080/"
        },
        "outputId": "651bb649-8075-446d-8d69-d44fe028fcc5"
      },
      "source": [
        "rs_rf.score(xtest,ytest)"
      ],
      "execution_count": 72,
      "outputs": [
        {
          "output_type": "execute_result",
          "data": {
            "text/plain": [
              "0.788595744680851"
            ]
          },
          "metadata": {
            "tags": []
          },
          "execution_count": 72
        }
      ]
    },
    {
      "cell_type": "code",
      "metadata": {
        "id": "WMCAzFaoXrwX",
        "colab": {
          "base_uri": "https://localhost:8080/",
          "height": 204
        },
        "outputId": "3233bb42-af3c-42e9-be66-36eeaf72976f"
      },
      "source": [
        "y_preds=rs_rf.predict(xtest)\n",
        "preds_df=pd.DataFrame(y_preds)\n",
        "preds_df.head()"
      ],
      "execution_count": 73,
      "outputs": [
        {
          "output_type": "execute_result",
          "data": {
            "text/html": [
              "<div>\n",
              "<style scoped>\n",
              "    .dataframe tbody tr th:only-of-type {\n",
              "        vertical-align: middle;\n",
              "    }\n",
              "\n",
              "    .dataframe tbody tr th {\n",
              "        vertical-align: top;\n",
              "    }\n",
              "\n",
              "    .dataframe thead th {\n",
              "        text-align: right;\n",
              "    }\n",
              "</style>\n",
              "<table border=\"1\" class=\"dataframe\">\n",
              "  <thead>\n",
              "    <tr style=\"text-align: right;\">\n",
              "      <th></th>\n",
              "      <th>0</th>\n",
              "    </tr>\n",
              "  </thead>\n",
              "  <tbody>\n",
              "    <tr>\n",
              "      <th>0</th>\n",
              "      <td>10</td>\n",
              "    </tr>\n",
              "    <tr>\n",
              "      <th>1</th>\n",
              "      <td>8</td>\n",
              "    </tr>\n",
              "    <tr>\n",
              "      <th>2</th>\n",
              "      <td>6</td>\n",
              "    </tr>\n",
              "    <tr>\n",
              "      <th>3</th>\n",
              "      <td>1</td>\n",
              "    </tr>\n",
              "    <tr>\n",
              "      <th>4</th>\n",
              "      <td>6</td>\n",
              "    </tr>\n",
              "  </tbody>\n",
              "</table>\n",
              "</div>"
            ],
            "text/plain": [
              "    0\n",
              "0  10\n",
              "1   8\n",
              "2   6\n",
              "3   1\n",
              "4   6"
            ]
          },
          "metadata": {
            "tags": []
          },
          "execution_count": 73
        }
      ]
    },
    {
      "cell_type": "code",
      "metadata": {
        "id": "JOKq3eN8YLD3",
        "colab": {
          "base_uri": "https://localhost:8080/",
          "height": 204
        },
        "outputId": "2ed1e518-88d2-49d8-bde7-f5688b439e62"
      },
      "source": [
        "comparison=pd.DataFrame(data={\"actual\":y_preds,\"prediction\":ytest})\n",
        "comparison.head()"
      ],
      "execution_count": 74,
      "outputs": [
        {
          "output_type": "execute_result",
          "data": {
            "text/html": [
              "<div>\n",
              "<style scoped>\n",
              "    .dataframe tbody tr th:only-of-type {\n",
              "        vertical-align: middle;\n",
              "    }\n",
              "\n",
              "    .dataframe tbody tr th {\n",
              "        vertical-align: top;\n",
              "    }\n",
              "\n",
              "    .dataframe thead th {\n",
              "        text-align: right;\n",
              "    }\n",
              "</style>\n",
              "<table border=\"1\" class=\"dataframe\">\n",
              "  <thead>\n",
              "    <tr style=\"text-align: right;\">\n",
              "      <th></th>\n",
              "      <th>actual</th>\n",
              "      <th>prediction</th>\n",
              "    </tr>\n",
              "  </thead>\n",
              "  <tbody>\n",
              "    <tr>\n",
              "      <th>0</th>\n",
              "      <td>10</td>\n",
              "      <td>10</td>\n",
              "    </tr>\n",
              "    <tr>\n",
              "      <th>1</th>\n",
              "      <td>8</td>\n",
              "      <td>8</td>\n",
              "    </tr>\n",
              "    <tr>\n",
              "      <th>2</th>\n",
              "      <td>6</td>\n",
              "      <td>6</td>\n",
              "    </tr>\n",
              "    <tr>\n",
              "      <th>3</th>\n",
              "      <td>1</td>\n",
              "      <td>1</td>\n",
              "    </tr>\n",
              "    <tr>\n",
              "      <th>4</th>\n",
              "      <td>6</td>\n",
              "      <td>7</td>\n",
              "    </tr>\n",
              "  </tbody>\n",
              "</table>\n",
              "</div>"
            ],
            "text/plain": [
              "   actual  prediction\n",
              "0      10          10\n",
              "1       8           8\n",
              "2       6           6\n",
              "3       1           1\n",
              "4       6           7"
            ]
          },
          "metadata": {
            "tags": []
          },
          "execution_count": 74
        }
      ]
    },
    {
      "cell_type": "code",
      "metadata": {
        "id": "VQlVWryPYT4o",
        "colab": {
          "base_uri": "https://localhost:8080/",
          "height": 281
        },
        "outputId": "3e893041-05b6-42fd-9f92-395c4dd714e5"
      },
      "source": [
        "comparison[\"result\"]=comparison[\"actual\"]==comparison[\"prediction\"]\n",
        "comparison[\"result\"].value_counts().plot(kind=\"barh\",color=[\"green\"],title=\"Comparison\");\n"
      ],
      "execution_count": 75,
      "outputs": [
        {
          "output_type": "display_data",
          "data": {
            "image/png": "[encoded data removed]",
            "text/plain": [
              "<Figure size 432x288 with 1 Axes>"
            ]
          },
          "metadata": {
            "tags": [],
            "needs_background": "light"
          }
        }
      ]
    },
    {
      "cell_type": "code",
      "metadata": {
        "id": "uxjYcVo6oz14",
        "colab": {
          "base_uri": "https://localhost:8080/",
          "height": 379
        },
        "outputId": "120bcc97-78ee-4f4b-d360-444f36f5f234"
      },
      "source": [
        "rs_df = pd.DataFrame(rs_rf.cv_results_).sort_values('rank_test_score').reset_index(drop=True)\n",
        "rs_df = rs_df.drop([\n",
        "            'mean_fit_time', \n",
        "            'std_fit_time', \n",
        "            'mean_score_time',\n",
        "            'std_score_time', \n",
        "            'params', \n",
        "            'split0_test_score', \n",
        "            'split1_test_score', \n",
        "            'split2_test_score', \n",
        "            'std_test_score'],\n",
        "            axis=1)\n",
        "rs_df.head(10)"
      ],
      "execution_count": 81,
      "outputs": [
        {
          "output_type": "execute_result",
          "data": {
            "text/html": [
              "<div>\n",
              "<style scoped>\n",
              "    .dataframe tbody tr th:only-of-type {\n",
              "        vertical-align: middle;\n",
              "    }\n",
              "\n",
              "    .dataframe tbody tr th {\n",
              "        vertical-align: top;\n",
              "    }\n",
              "\n",
              "    .dataframe thead th {\n",
              "        text-align: right;\n",
              "    }\n",
              "</style>\n",
              "<table border=\"1\" class=\"dataframe\">\n",
              "  <thead>\n",
              "    <tr style=\"text-align: right;\">\n",
              "      <th></th>\n",
              "      <th>param_n_estimators</th>\n",
              "      <th>param_min_samples_split</th>\n",
              "      <th>param_min_samples_leaf</th>\n",
              "      <th>param_max_features</th>\n",
              "      <th>param_max_depth</th>\n",
              "      <th>param_bootstrap</th>\n",
              "      <th>split3_test_score</th>\n",
              "      <th>split4_test_score</th>\n",
              "      <th>mean_test_score</th>\n",
              "      <th>rank_test_score</th>\n",
              "    </tr>\n",
              "  </thead>\n",
              "  <tbody>\n",
              "    <tr>\n",
              "      <th>0</th>\n",
              "      <td>110</td>\n",
              "      <td>14</td>\n",
              "      <td>3</td>\n",
              "      <td>log2</td>\n",
              "      <td>None</td>\n",
              "      <td>False</td>\n",
              "      <td>0.779645</td>\n",
              "      <td>0.780496</td>\n",
              "      <td>0.780000</td>\n",
              "      <td>1</td>\n",
              "    </tr>\n",
              "    <tr>\n",
              "      <th>1</th>\n",
              "      <td>460</td>\n",
              "      <td>6</td>\n",
              "      <td>3</td>\n",
              "      <td>sqrt</td>\n",
              "      <td>None</td>\n",
              "      <td>True</td>\n",
              "      <td>0.779433</td>\n",
              "      <td>0.778723</td>\n",
              "      <td>0.779603</td>\n",
              "      <td>2</td>\n",
              "    </tr>\n",
              "    <tr>\n",
              "      <th>2</th>\n",
              "      <td>110</td>\n",
              "      <td>6</td>\n",
              "      <td>1</td>\n",
              "      <td>sqrt</td>\n",
              "      <td>15</td>\n",
              "      <td>False</td>\n",
              "      <td>0.764468</td>\n",
              "      <td>0.760071</td>\n",
              "      <td>0.761674</td>\n",
              "      <td>3</td>\n",
              "    </tr>\n",
              "    <tr>\n",
              "      <th>3</th>\n",
              "      <td>1010</td>\n",
              "      <td>8</td>\n",
              "      <td>3</td>\n",
              "      <td>log2</td>\n",
              "      <td>15</td>\n",
              "      <td>False</td>\n",
              "      <td>0.761418</td>\n",
              "      <td>0.756950</td>\n",
              "      <td>0.758823</td>\n",
              "      <td>4</td>\n",
              "    </tr>\n",
              "    <tr>\n",
              "      <th>4</th>\n",
              "      <td>60</td>\n",
              "      <td>12</td>\n",
              "      <td>7</td>\n",
              "      <td>log2</td>\n",
              "      <td>None</td>\n",
              "      <td>True</td>\n",
              "      <td>0.756383</td>\n",
              "      <td>0.749220</td>\n",
              "      <td>0.750426</td>\n",
              "      <td>5</td>\n",
              "    </tr>\n",
              "    <tr>\n",
              "      <th>5</th>\n",
              "      <td>1010</td>\n",
              "      <td>18</td>\n",
              "      <td>7</td>\n",
              "      <td>log2</td>\n",
              "      <td>None</td>\n",
              "      <td>True</td>\n",
              "      <td>0.754043</td>\n",
              "      <td>0.750567</td>\n",
              "      <td>0.749915</td>\n",
              "      <td>6</td>\n",
              "    </tr>\n",
              "    <tr>\n",
              "      <th>6</th>\n",
              "      <td>860</td>\n",
              "      <td>10</td>\n",
              "      <td>3</td>\n",
              "      <td>sqrt</td>\n",
              "      <td>15</td>\n",
              "      <td>True</td>\n",
              "      <td>0.750638</td>\n",
              "      <td>0.748156</td>\n",
              "      <td>0.747787</td>\n",
              "      <td>7</td>\n",
              "    </tr>\n",
              "    <tr>\n",
              "      <th>7</th>\n",
              "      <td>10</td>\n",
              "      <td>8</td>\n",
              "      <td>3</td>\n",
              "      <td>log2</td>\n",
              "      <td>15</td>\n",
              "      <td>True</td>\n",
              "      <td>0.728936</td>\n",
              "      <td>0.726667</td>\n",
              "      <td>0.728014</td>\n",
              "      <td>8</td>\n",
              "    </tr>\n",
              "    <tr>\n",
              "      <th>8</th>\n",
              "      <td>260</td>\n",
              "      <td>16</td>\n",
              "      <td>15</td>\n",
              "      <td>log2</td>\n",
              "      <td>None</td>\n",
              "      <td>True</td>\n",
              "      <td>0.729220</td>\n",
              "      <td>0.724965</td>\n",
              "      <td>0.724936</td>\n",
              "      <td>9</td>\n",
              "    </tr>\n",
              "    <tr>\n",
              "      <th>9</th>\n",
              "      <td>910</td>\n",
              "      <td>4</td>\n",
              "      <td>5</td>\n",
              "      <td>sqrt</td>\n",
              "      <td>10</td>\n",
              "      <td>False</td>\n",
              "      <td>0.689007</td>\n",
              "      <td>0.680567</td>\n",
              "      <td>0.682638</td>\n",
              "      <td>10</td>\n",
              "    </tr>\n",
              "  </tbody>\n",
              "</table>\n",
              "</div>"
            ],
            "text/plain": [
              "  param_n_estimators param_min_samples_split  ... mean_test_score rank_test_score\n",
              "0                110                      14  ...        0.780000               1\n",
              "1                460                       6  ...        0.779603               2\n",
              "2                110                       6  ...        0.761674               3\n",
              "3               1010                       8  ...        0.758823               4\n",
              "4                 60                      12  ...        0.750426               5\n",
              "5               1010                      18  ...        0.749915               6\n",
              "6                860                      10  ...        0.747787               7\n",
              "7                 10                       8  ...        0.728014               8\n",
              "8                260                      16  ...        0.724936               9\n",
              "9                910                       4  ...        0.682638              10\n",
              "\n",
              "[10 rows x 10 columns]"
            ]
          },
          "metadata": {
            "tags": []
          },
          "execution_count": 81
        }
      ]
    },
    {
      "cell_type": "code",
      "metadata": {
        "id": "0gCZhCPNHcds",
        "colab": {
          "base_uri": "https://localhost:8080/",
          "height": 957
        },
        "outputId": "74993f99-c73e-4c86-c976-3977b134dc65"
      },
      "source": [
        "fig, axs = plt.subplots(ncols=3, nrows=2)\n",
        "sns.set(style=\"whitegrid\", color_codes=True, font_scale = 2)\n",
        "fig.set_size_inches(30,25)\n",
        "\n",
        "g = sns.barplot(x='param_n_estimators', y='mean_test_score', data=rs_df, ax=axs[0,0], color='lightgrey')\n",
        "g.set_xticklabels(g.get_xticklabels(), rotation=90)\n",
        "\n",
        "\n",
        "sns.barplot(x='param_min_samples_leaf', y='mean_test_score', data=rs_df, ax=axs[0,2], color='lightgreen')\n",
        "\n",
        "sns.barplot(x='param_min_samples_split', y='mean_test_score', data=rs_df, ax=axs[0,1], color='coral')\n",
        "\n",
        "sns.barplot(x='param_max_features', y='mean_test_score', data=rs_df, ax=axs[1,0], color='wheat')\n",
        "\n",
        "sns.barplot(x='param_max_depth', y='mean_test_score', data=rs_df, ax=axs[1,1], color='lightpink')\n",
        "\n",
        "sns.barplot(x='param_bootstrap',y='mean_test_score', data=rs_df, ax=axs[1,2], color='skyblue')\n",
        "\n",
        "\n",
        "\n",
        "plt.show()"
      ],
      "execution_count": 82,
      "outputs": [
        {
          "output_type": "display_data",
          "data": {
            "image/png": "[encoded data removed]",
            "text/plain": [
              "<Figure size 2160x1800 with 6 Axes>"
            ]
          },
          "metadata": {
            "tags": []
          }
        }
      ]
    },
    {
      "cell_type": "code",
      "metadata": {
        "id": "yH2c5Xb0xeRo",
        "colab": {
          "base_uri": "https://localhost:8080/"
        },
        "outputId": "30a866a0-3c99-4219-ae51-82450931a64a"
      },
      "source": [
        "from sklearn.model_selection import GridSearchCV\n",
        "\n",
        "n_estimators = [110,460,1010]\n",
        "max_features = ['log2']\n",
        "max_depth = [10,15]\n",
        "min_samples_split = [8,10]\n",
        "min_samples_leaf = [1,3]\n",
        "bootstrap = [False]\n",
        "param_grid = {'n_estimators': n_estimators,\n",
        "               'max_features': max_features,\n",
        "               'max_depth': max_depth,\n",
        "               'min_samples_split': min_samples_split,\n",
        "               'min_samples_leaf': min_samples_leaf,\n",
        "               'bootstrap': bootstrap}\n",
        "gs = GridSearchCV(RandomForestClassifier(), param_grid, cv = 3, verbose = 1, n_jobs=-1)\n",
        "gs.fit(xtrain,ytrain)\n"
      ],
      "execution_count": 87,
      "outputs": [
        {
          "output_type": "stream",
          "text": [
            "Fitting 3 folds for each of 24 candidates, totalling 72 fits\n"
          ],
          "name": "stdout"
        },
        {
          "output_type": "stream",
          "text": [
            "[Parallel(n_jobs=-1)]: Using backend LokyBackend with 2 concurrent workers.\n",
            "[Parallel(n_jobs=-1)]: Done  46 tasks      | elapsed: 66.9min\n",
            "[Parallel(n_jobs=-1)]: Done  72 out of  72 | elapsed: 122.5min finished\n"
          ],
          "name": "stderr"
        },
        {
          "output_type": "execute_result",
          "data": {
            "text/plain": [
              "GridSearchCV(cv=3, error_score=nan,\n",
              "             estimator=RandomForestClassifier(bootstrap=True, ccp_alpha=0.0,\n",
              "                                              class_weight=None,\n",
              "                                              criterion='gini', max_depth=None,\n",
              "                                              max_features='auto',\n",
              "                                              max_leaf_nodes=None,\n",
              "                                              max_samples=None,\n",
              "                                              min_impurity_decrease=0.0,\n",
              "                                              min_impurity_split=None,\n",
              "                                              min_samples_leaf=1,\n",
              "                                              min_samples_split=2,\n",
              "                                              min_weight_fraction_leaf=0.0,\n",
              "                                              n_estimators=100, n_jobs=None,\n",
              "                                              oob_score=False,\n",
              "                                              random_state=None, verbose=0,\n",
              "                                              warm_start=False),\n",
              "             iid='deprecated', n_jobs=-1,\n",
              "             param_grid={'bootstrap': [False], 'max_depth': [10, 15],\n",
              "                         'max_features': ['log2'], 'min_samples_leaf': [1, 3],\n",
              "                         'min_samples_split': [8, 10],\n",
              "                         'n_estimators': [110, 460, 1010]},\n",
              "             pre_dispatch='2*n_jobs', refit=True, return_train_score=False,\n",
              "             scoring=None, verbose=1)"
            ]
          },
          "metadata": {
            "tags": []
          },
          "execution_count": 87
        }
      ]
    },
    {
      "cell_type": "code",
      "metadata": {
        "id": "fipG3i1ZkZLw",
        "outputId": "c8c6be75-91fb-4b28-e378-3a2ae029f542",
        "colab": {
          "base_uri": "https://localhost:8080/"
        }
      },
      "source": [
        "gs.best_params_"
      ],
      "execution_count": 88,
      "outputs": [
        {
          "output_type": "execute_result",
          "data": {
            "text/plain": [
              "{'bootstrap': False,\n",
              " 'max_depth': 15,\n",
              " 'max_features': 'log2',\n",
              " 'min_samples_leaf': 1,\n",
              " 'min_samples_split': 8,\n",
              " 'n_estimators': 1010}"
            ]
          },
          "metadata": {
            "tags": []
          },
          "execution_count": 88
        }
      ]
    },
    {
      "cell_type": "code",
      "metadata": {
        "id": "yF94yHIIkkSD",
        "outputId": "432a0d97-2cc1-47cb-d4f1-1b1d95c00077",
        "colab": {
          "base_uri": "https://localhost:8080/"
        }
      },
      "source": [
        "gs.score(xtest,ytest)"
      ],
      "execution_count": 90,
      "outputs": [
        {
          "output_type": "execute_result",
          "data": {
            "text/plain": [
              "0.7712907801418439"
            ]
          },
          "metadata": {
            "tags": []
          },
          "execution_count": 90
        }
      ]
    },
    {
      "cell_type": "code",
      "metadata": {
        "id": "W_vKuDNGlZF0",
        "outputId": "69c4557f-afe9-4f20-c3df-6544e9b0eac1",
        "colab": {
          "base_uri": "https://localhost:8080/",
          "height": 34
        }
      },
      "source": [
        "display(gs.score(xtrain,ytrain))"
      ],
      "execution_count": 92,
      "outputs": [
        {
          "output_type": "display_data",
          "data": {
            "text/plain": [
              "0.8994751773049645"
            ]
          },
          "metadata": {
            "tags": []
          }
        }
      ]
    },
    {
      "cell_type": "code",
      "metadata": {
        "id": "4GXV6dtXlpMu",
        "outputId": "eb59a36f-fed5-4790-a3f9-e5f040ae54d3",
        "colab": {
          "base_uri": "https://localhost:8080/",
          "height": 34
        }
      },
      "source": [
        "display(gs.score(xtest,ytest))"
      ],
      "execution_count": 93,
      "outputs": [
        {
          "output_type": "display_data",
          "data": {
            "text/plain": [
              "0.7712907801418439"
            ]
          },
          "metadata": {
            "tags": []
          }
        }
      ]
    },
    {
      "cell_type": "markdown",
      "metadata": {
        "id": "Ek3CV2eUXd__"
      },
      "source": [
        "Conclusion"
      ]
    },
    {
      "source": [
        "It is clearly seen that the tunning model gives us the better result on the trained data but the prediction on the test data eventually has the worse value than the first model where the score is 0.8  "
      ],
      "cell_type": "markdown",
      "metadata": {}
    }
  ]
}